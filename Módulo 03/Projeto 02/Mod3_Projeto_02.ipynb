{
  "cells": [
    {
      "cell_type": "markdown",
      "metadata": {
        "colab_type": "text",
        "id": "view-in-github"
      },
      "source": [
        "<a href=\"https://colab.research.google.com/github/lucascarneirodev/Data-Science-Projects/blob/main/Mod3_Projeto_02.ipynb\" target=\"_parent\"><img src=\"https://colab.research.google.com/assets/colab-badge.svg\" alt=\"Open In Colab\"/></a>"
      ]
    },
    {
      "cell_type": "markdown",
      "metadata": {
        "id": "9TD9VguEKXvA"
      },
      "source": [
        "#Exercício\n",
        "Neste projeto você deverá desenvolver a partir do que já vimos nos projetos anteriores, ou seja, poderá usar qualquer um dos modelos vistos durante as aulas. Siga este roteiro e preencha cada parte."
      ]
    },
    {
      "cell_type": "code",
      "execution_count": 6,
      "metadata": {
        "id": "ACHViCIQLEHl"
      },
      "outputs": [
        {
          "name": "stdout",
          "output_type": "stream",
          "text": [
            "Requirement already satisfied: scikit-learn in c:\\program files\\python310\\lib\\site-packages (1.1.1)\n",
            "Requirement already satisfied: joblib>=1.0.0 in c:\\program files\\python310\\lib\\site-packages (from scikit-learn) (1.1.0)\n",
            "Requirement already satisfied: threadpoolctl>=2.0.0 in c:\\program files\\python310\\lib\\site-packages (from scikit-learn) (3.1.0)\n",
            "Requirement already satisfied: scipy>=1.3.2 in c:\\program files\\python310\\lib\\site-packages (from scikit-learn) (1.8.1)\n",
            "Requirement already satisfied: numpy>=1.17.3 in c:\\program files\\python310\\lib\\site-packages (from scikit-learn) (1.22.4)\n",
            "Note: you may need to restart the kernel to use updated packages.\n"
          ]
        },
        {
          "name": "stderr",
          "output_type": "stream",
          "text": [
            "WARNING: You are using pip version 22.0.4; however, version 22.1.1 is available.\n",
            "You should consider upgrading via the 'c:\\Program Files\\Python310\\python.exe -m pip install --upgrade pip' command.\n"
          ]
        },
        {
          "ename": "NameError",
          "evalue": "name 'pd' is not defined",
          "output_type": "error",
          "traceback": [
            "\u001b[1;31m---------------------------------------------------------------------------\u001b[0m",
            "\u001b[1;31mNameError\u001b[0m                                 Traceback (most recent call last)",
            "\u001b[1;32mc:\\Users\\lucas.carneiro\\Desktop\\repo\\Data-Science-Projects\\Módulo 03\\Projeto 02\\Mod3_Projeto_02.ipynb Cell 3'\u001b[0m in \u001b[0;36m<cell line: 2>\u001b[1;34m()\u001b[0m\n\u001b[0;32m      <a href='vscode-notebook-cell:/c%3A/Users/lucas.carneiro/Desktop/repo/Data-Science-Projects/M%C3%B3dulo%2003/Projeto%2002/Mod3_Projeto_02.ipynb#ch0000002?line=0'>1</a>\u001b[0m get_ipython()\u001b[39m.\u001b[39mrun_line_magic(\u001b[39m'\u001b[39m\u001b[39mpip\u001b[39m\u001b[39m'\u001b[39m, \u001b[39m'\u001b[39m\u001b[39minstall -U scikit-learn\u001b[39m\u001b[39m'\u001b[39m)\n\u001b[1;32m----> <a href='vscode-notebook-cell:/c%3A/Users/lucas.carneiro/Desktop/repo/Data-Science-Projects/M%C3%B3dulo%2003/Projeto%2002/Mod3_Projeto_02.ipynb#ch0000002?line=1'>2</a>\u001b[0m data \u001b[39m=\u001b[39m pd\u001b[39m.\u001b[39mread_csv(\u001b[39m\"\u001b[39m\u001b[39mtest.csv\u001b[39m\u001b[39m\"\u001b[39m)\n\u001b[0;32m      <a href='vscode-notebook-cell:/c%3A/Users/lucas.carneiro/Desktop/repo/Data-Science-Projects/M%C3%B3dulo%2003/Projeto%2002/Mod3_Projeto_02.ipynb#ch0000002?line=3'>4</a>\u001b[0m \u001b[39mimport\u001b[39;00m \u001b[39mnumpy\u001b[39;00m \u001b[39mas\u001b[39;00m \u001b[39mnp\u001b[39;00m\n\u001b[0;32m      <a href='vscode-notebook-cell:/c%3A/Users/lucas.carneiro/Desktop/repo/Data-Science-Projects/M%C3%B3dulo%2003/Projeto%2002/Mod3_Projeto_02.ipynb#ch0000002?line=4'>5</a>\u001b[0m \u001b[39mimport\u001b[39;00m \u001b[39mpandas\u001b[39;00m \u001b[39mas\u001b[39;00m \u001b[39mpd\u001b[39;00m\n",
            "\u001b[1;31mNameError\u001b[0m: name 'pd' is not defined"
          ]
        }
      ],
      "source": [
        "%pip install -U scikit-learn\n",
        "\n",
        "import numpy as np\n",
        "import pandas as pd\n",
        "\n",
        "import seaborn as sns\n",
        "import matplotlib.pyplot as plt\n",
        "\n",
        "from sklearn.compose import ColumnTransformer\n",
        "from sklearn.pipeline import Pipeline\n",
        "from sklearn.impute import SimpleImputer\n",
        "from sklearn.preprocessing import OneHotEncoder\n",
        "\n",
        "from sklearn.linear_model import LinearRegression\n",
        "\n",
        "data = pd.read_csv(\"test.csv\")"
      ]
    },
    {
      "cell_type": "code",
      "execution_count": null,
      "metadata": {},
      "outputs": [],
      "source": [
        "# referência do código: João Rodrigues\n",
        "def print_metrics(model_name: str, y_test: np.ndarray, y_pred: np.ndarray) -> str:\n",
        "  \"\"\"\n",
        "  Returns the accuracy, precision and recall scores of the model\n",
        "\n",
        "      Arguments:\n",
        "          model_name {str} -- name of the model\n",
        "          y_test {array} -- array of the test labels\n",
        "          y_pred {array} -- array of the predicted labels\n",
        "          y_test_pca {array} -- array of the test labels after PCA\n",
        "          y_pred_pca {array} -- array of the predicted labels after PCA\n",
        "\n",
        "      Returns:\n",
        "          A formatted string containing the accuracy, precision and recall scores of the model for both non-PCA and PCA.\n",
        "\n",
        "  \"\"\"\n",
        "  #imports\n",
        "  from sklearn.metrics import mean_absolute_error, mean_squared_error\n",
        "\n",
        "  return (f'''\n",
        "\n",
        "Mean Absolute Error (MAE) do Modelo {model_name} sem PCA: {mean_absolute_error(y_test, y_pred):.4f}\n",
        "\n",
        "Mean Squared Error (MSE) do Modelo {model_name} sem PCA: {mean_squared_error(y_test, y_pred, squared=True):.4f}\n",
        "\n",
        "Root Mean Squared Error (RMSE) do Modelo {model_name} sem PCA: {mean_squared_error(y_test, y_pred, squared=False):.4f}\n",
        "''')"
      ]
    },
    {
      "cell_type": "markdown",
      "metadata": {
        "id": "VLF59sHIKeFV"
      },
      "source": [
        "#1. Análise exploratória de dados (1.0 ponto)\n",
        "\n",
        "Realize a análise exploratória de dados. Observe cada variável, como se comportam em relação a outras variáveis independentes e com a variável dependente."
      ]
    },
    {
      "cell_type": "markdown",
      "metadata": {
        "id": "sIJGL5AUKjqO"
      },
      "source": [
        "#2. Levantamento de hipóteses (1.0 ponto)\n",
        "Descreva quais hipóteses você observou ao fazer a análise exploratória de dados."
      ]
    },
    {
      "cell_type": "markdown",
      "metadata": {
        "id": "oVshazIkKo9G"
      },
      "source": [
        "#3. Apresentação das ideias obtidas (1.0 ponto)\n",
        "Apresente com gráficos as suas observações e a descreva cada gráfico."
      ]
    },
    {
      "cell_type": "markdown",
      "metadata": {
        "id": "R-fKO-pJKsVd"
      },
      "source": [
        "#4. Preparação dos dados (1.0 ponto)\n",
        "Faça um processamento nos dados, preenchendo valores faltantes, removendo dados ou variáveis inconsistentes e normalizado os dados"
      ]
    },
    {
      "cell_type": "markdown",
      "metadata": {
        "id": "jh4A1uiAKv29"
      },
      "source": [
        "#5. Criação e seleção de características (1.0 ponto)\n",
        "Observando as variáveis disponíveis, é possível criar novas variáveis? Ou trazer de um dado externo novos dados para agregar aos existentes? É possível selecionar uma variável ou grupo de variáveis que melhor explica a variável dependente?"
      ]
    },
    {
      "cell_type": "markdown",
      "metadata": {
        "id": "La13Y0krKz1V"
      },
      "source": [
        "#6. Decisão do modelo (1.0 ponto)\n",
        "Dada toda a análise realizada nos pontos anteriores, qual modelo melhor se adequa a este problema? E por quê?"
      ]
    },
    {
      "cell_type": "markdown",
      "metadata": {
        "id": "AsYab3UNK3HA"
      },
      "source": [
        "#7. Modelagem (1.0 ponto)\n",
        "Divida os dados em teste e treino, construa o seu modelo e teste alterar os parâmetros utilizados por ele."
      ]
    },
    {
      "cell_type": "markdown",
      "metadata": {
        "id": "rAOXh7bXK74d"
      },
      "source": [
        "#8. Histórico (1.0 pontos)\n",
        "Preencha a tabela abaixo com cada teste realizado com seu modelo (coloque vazio se a métrica não se aplica). Não se preocupe caso voce mude de ideia sobre qual modelo testar, mas não deixe de testá-lo exaustivamente e, caso precise, retorne para o passo de criação e seleção de características."
      ]
    },
    {
      "cell_type": "markdown",
      "metadata": {
        "id": "3eAY6W7pK-yd"
      },
      "source": [
        "#9. Resultado (2.0 pontos)\n",
        "Reúna os seus achados, os valores das métricas do seu melhor modelo obtido e o melhor conjunto de variáveis. Escreva abaixo um relatório que seria enviado para uma diretoria de uma empresa sobre seu trabalho."
      ]
    },
    {
      "cell_type": "code",
      "execution_count": null,
      "metadata": {
        "id": "DkO9l_CpE-Pc"
      },
      "outputs": [],
      "source": []
    }
  ],
  "metadata": {
    "colab": {
      "authorship_tag": "ABX9TyNCcFcxJ7ogl2JVn8p2c0ll",
      "include_colab_link": true,
      "name": "Mod3 - Projeto 02.ipynb",
      "provenance": []
    },
    "interpreter": {
      "hash": "26de051ba29f2982a8de78e945f0abaf191376122a1563185a90213a26c5da77"
    },
    "kernelspec": {
      "display_name": "Python 3.10.1 64-bit",
      "language": "python",
      "name": "python3"
    },
    "language_info": {
      "codemirror_mode": {
        "name": "ipython",
        "version": 3
      },
      "file_extension": ".py",
      "mimetype": "text/x-python",
      "name": "python",
      "nbconvert_exporter": "python",
      "pygments_lexer": "ipython3",
      "version": "3.10.4"
    }
  },
  "nbformat": 4,
  "nbformat_minor": 0
}
