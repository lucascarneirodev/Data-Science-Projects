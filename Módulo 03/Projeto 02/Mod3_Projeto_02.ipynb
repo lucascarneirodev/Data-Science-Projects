{
  "cells": [
    {
      "cell_type": "markdown",
      "metadata": {
        "colab_type": "text",
        "id": "view-in-github"
      },
      "source": [
        "<a href=\"https://colab.research.google.com/github/lucascarneirodev/Data-Science-Projects/blob/main/Mod3_Projeto_02.ipynb\" target=\"_parent\"><img src=\"https://colab.research.google.com/assets/colab-badge.svg\" alt=\"Open In Colab\"/></a>"
      ]
    },
    {
      "cell_type": "markdown",
      "metadata": {
        "id": "9TD9VguEKXvA"
      },
      "source": [
        "#Exercício\n",
        "Neste projeto você deverá desenvolver a partir do que já vimos nos projetos anteriores, ou seja, poderá usar qualquer um dos modelos vistos durante as aulas. Siga este roteiro e preencha cada parte."
      ]
    },
    {
      "cell_type": "code",
      "execution_count": 3,
      "metadata": {},
      "outputs": [
        {
          "name": "stdout",
          "output_type": "stream",
          "text": [
            "Requirement already satisfied: scikit-learn in c:\\program files\\python310\\lib\\site-packages (1.1.1)\n",
            "Requirement already satisfied: pandas in c:\\program files\\python310\\lib\\site-packages (1.4.2)\n",
            "Requirement already satisfied: numpy in c:\\program files\\python310\\lib\\site-packages (1.22.4)\n",
            "Requirement already satisfied: seaborn in c:\\program files\\python310\\lib\\site-packages (0.11.2)\n",
            "Requirement already satisfied: joblib>=1.0.0 in c:\\program files\\python310\\lib\\site-packages (from scikit-learn) (1.1.0)\n",
            "Requirement already satisfied: threadpoolctl>=2.0.0 in c:\\program files\\python310\\lib\\site-packages (from scikit-learn) (3.1.0)\n",
            "Requirement already satisfied: scipy>=1.3.2 in c:\\program files\\python310\\lib\\site-packages (from scikit-learn) (1.8.1)\n",
            "Requirement already satisfied: python-dateutil>=2.8.1 in c:\\program files\\python310\\lib\\site-packages (from pandas) (2.8.2)\n",
            "Requirement already satisfied: pytz>=2020.1 in c:\\program files\\python310\\lib\\site-packages (from pandas) (2022.1)\n",
            "Requirement already satisfied: matplotlib>=2.2 in c:\\program files\\python310\\lib\\site-packages (from seaborn) (3.5.2)\n",
            "Requirement already satisfied: fonttools>=4.22.0 in c:\\program files\\python310\\lib\\site-packages (from matplotlib>=2.2->seaborn) (4.33.3)\n",
            "Requirement already satisfied: pillow>=6.2.0 in c:\\program files\\python310\\lib\\site-packages (from matplotlib>=2.2->seaborn) (9.1.1)\n",
            "Requirement already satisfied: packaging>=20.0 in c:\\program files\\python310\\lib\\site-packages (from matplotlib>=2.2->seaborn) (21.3)\n",
            "Requirement already satisfied: kiwisolver>=1.0.1 in c:\\program files\\python310\\lib\\site-packages (from matplotlib>=2.2->seaborn) (1.4.2)\n",
            "Requirement already satisfied: cycler>=0.10 in c:\\program files\\python310\\lib\\site-packages (from matplotlib>=2.2->seaborn) (0.11.0)\n",
            "Requirement already satisfied: pyparsing>=2.2.1 in c:\\program files\\python310\\lib\\site-packages (from matplotlib>=2.2->seaborn) (3.0.9)\n",
            "Requirement already satisfied: six>=1.5 in c:\\program files\\python310\\lib\\site-packages (from python-dateutil>=2.8.1->pandas) (1.16.0)\n",
            "Note: you may need to restart the kernel to use updated packages.\n"
          ]
        },
        {
          "name": "stderr",
          "output_type": "stream",
          "text": [
            "WARNING: You are using pip version 22.0.4; however, version 22.1.1 is available.\n",
            "You should consider upgrading via the 'c:\\Program Files\\Python310\\python.exe -m pip install --upgrade pip' command.\n"
          ]
        }
      ],
      "source": [
        "%pip install -U scikit-learn pandas numpy seaborn"
      ]
    },
    {
      "cell_type": "code",
      "execution_count": 2,
      "metadata": {
        "id": "ACHViCIQLEHl"
      },
      "outputs": [],
      "source": [
        "import numpy as np\n",
        "import pandas as pd\n",
        "\n",
        "import seaborn as sns\n",
        "import matplotlib.pyplot as plt\n",
        "\n",
        "from sklearn.model_selection import train_test_split\n",
        "from sklearn.compose import ColumnTransformer\n",
        "from sklearn.pipeline import Pipeline\n",
        "from sklearn.impute import SimpleImputer\n",
        "from sklearn.preprocessing import OneHotEncoder\n",
        "from sklearn.compose import make_column_selector\n",
        "from sklearn.decomposition import PCA\n",
        "from sklearn.preprocessing import StandardScaler\n",
        "\n",
        "from sklearn.linear_model import LinearRegression\n",
        "\n",
        "from sklearn.linear_model import LassoCV, RidgeCV\n",
        "\n",
        "\n",
        "from warnings import simplefilter"
      ]
    },
    {
      "cell_type": "code",
      "execution_count": 4,
      "metadata": {},
      "outputs": [],
      "source": [
        "data = pd.read_csv(\"train.csv\")\n",
        "data_train = pd.read_csv(\"test.csv\")"
      ]
    },
    {
      "cell_type": "code",
      "execution_count": 5,
      "metadata": {},
      "outputs": [],
      "source": [
        "# referência do código: João Rodrigues\n",
        "def print_metrics(model: Pipeline, model_name: str, X_test: np.ndarray, y_test: np.ndarray, y_pred: np.ndarray) -> str:\n",
        "  \"\"\"\n",
        "  Returns the Mean Absolute Error (MAE), Mean Squared Error (MSE), Root Mean Squared Error (RMSE) and R-squared scores of the model\n",
        "      Arguments:\n",
        "          model_name {str} -- name of the model\n",
        "          y_test {array} -- array of the test labels\n",
        "          y_pred {array} -- array of the predicted labels\n",
        "          y_test_pca {array} -- array of the test labels after PCA\n",
        "          y_pred_pca {array} -- array of the predicted labels after PCA\n",
        "      Returns:\n",
        "          A formatted string containing the accuracy, precision and recall scores of the model for both non-PCA and PCA.\n",
        "  \"\"\"\n",
        "  #imports\n",
        "  from sklearn.metrics import mean_absolute_error, mean_squared_error\n",
        "\n",
        "  return (f'''\n",
        "\n",
        "Mean Absolute Error (MAE) do Modelo {model_name}: {mean_absolute_error(y_test, y_pred):.3f}\n",
        "\n",
        "Mean Squared Error (MSE) do Modelo {model_name}: {mean_squared_error(y_test, y_pred, squared=True):.4f}\n",
        "\n",
        "Root Mean Squared Error (RMSE) do Modelo {model_name}: {mean_squared_error(y_test, y_pred, squared=False):.4f}\n",
        "\n",
        "R-squared do Modelo {model_name}: {model.score(X_test, y_test):.3f}\n",
        "''')\n",
        "\n",
        "def get_features(model: Pipeline, model_name: str, ispca: bool) -> str:\n",
        "  \"\"\"\n",
        "  Get Features Function\n",
        "  Returns a string containing the number of original features, the number of features selected by the model (in case the model is a Lasso) and the name of the features selected (will return all features if it's not a Lasso).\n",
        "      Arguments:\n",
        "\n",
        "          - model {Pipeline} -- a pipeline object containing an estimator/model with fit/transform/predict operations.\n",
        "\n",
        "          - model_name {str} -- name of the model used inside the pipeline to identify the model\n",
        "\n",
        "          - ispca {bool} -- if the model passed is a model with pca, this should be true, otherwise it should be false.\n",
        "      Returns:\n",
        "          Returns a string containing the number of original features, the number of features selected by the model (in case the model is a Lasso) and the name of the features selected (will return all features if it's not a Lasso).\n",
        "  \"\"\"\n",
        "\n",
        "  preprocessor_fitted = model['preprocessor']\n",
        "\n",
        "  if ispca:\n",
        "    feature_names = (\n",
        "      list(preprocessor_fitted.named_transformers_['num']['pca'].get_feature_names_out()) +\n",
        "      list(preprocessor_fitted.named_transformers_['cat']['pca'].get_feature_names_out())\n",
        "      )\n",
        "\n",
        "  else:\n",
        "    feature_names = (\n",
        "      list(preprocessor_fitted.named_transformers_['num']['imputer'].get_feature_names_out()) +\n",
        "      list(preprocessor_fitted.named_transformers_['cat']['one_hot_encoder'].get_feature_names_out())\n",
        "      )\n",
        "\n",
        "  feature_names = np.array(feature_names)\n",
        "  kept = ~np.isclose(model[model_name].coef_, 0)\n",
        "\n",
        "  if 'lasso' not in model_name:\n",
        "    return(f'''\n",
        "    Atenção: O modelo passado não é Lasso, logo todas as variáveis passadas terão sido selecionadas.\n",
        "    Número de Features Original: {len(feature_names)}\n",
        "    Número de Features selecionadas pelo {model_name}: {len(feature_names[kept])}\n",
        "    Features Selecionadas:\n",
        "    {feature_names[kept]}\n",
        "    ''')\n",
        "\n",
        "  return(f'''\n",
        "    Número de Features Original: {len(feature_names)}\n",
        "    Número de Features selecionadas pelo {model_name}: {len(feature_names[kept])}\n",
        "    Features Selecionadas:\n",
        "    {feature_names[kept]}\n",
        "    ''')"
      ]
    },
    {
      "cell_type": "code",
      "execution_count": 6,
      "metadata": {},
      "outputs": [],
      "source": [
        "simplefilter(\"ignore\", category=UserWarning)"
      ]
    },
    {
      "cell_type": "markdown",
      "metadata": {
        "id": "VLF59sHIKeFV"
      },
      "source": [
        "#1. Análise exploratória de dados (1.0 ponto)\n",
        "\n",
        "Realize a análise exploratória de dados. Observe cada variável, como se comportam em relação a outras variáveis independentes e com a variável dependente."
      ]
    },
    {
      "cell_type": "code",
      "execution_count": 7,
      "metadata": {},
      "outputs": [
        {
          "name": "stdout",
          "output_type": "stream",
          "text": [
            "<class 'pandas.core.frame.DataFrame'>\n",
            "RangeIndex: 1460 entries, 0 to 1459\n",
            "Data columns (total 81 columns):\n",
            " #   Column         Non-Null Count  Dtype  \n",
            "---  ------         --------------  -----  \n",
            " 0   Id             1460 non-null   int64  \n",
            " 1   MSSubClass     1460 non-null   int64  \n",
            " 2   MSZoning       1460 non-null   object \n",
            " 3   LotFrontage    1201 non-null   float64\n",
            " 4   LotArea        1460 non-null   int64  \n",
            " 5   Street         1460 non-null   object \n",
            " 6   Alley          91 non-null     object \n",
            " 7   LotShape       1460 non-null   object \n",
            " 8   LandContour    1460 non-null   object \n",
            " 9   Utilities      1460 non-null   object \n",
            " 10  LotConfig      1460 non-null   object \n",
            " 11  LandSlope      1460 non-null   object \n",
            " 12  Neighborhood   1460 non-null   object \n",
            " 13  Condition1     1460 non-null   object \n",
            " 14  Condition2     1460 non-null   object \n",
            " 15  BldgType       1460 non-null   object \n",
            " 16  HouseStyle     1460 non-null   object \n",
            " 17  OverallQual    1460 non-null   int64  \n",
            " 18  OverallCond    1460 non-null   int64  \n",
            " 19  YearBuilt      1460 non-null   int64  \n",
            " 20  YearRemodAdd   1460 non-null   int64  \n",
            " 21  RoofStyle      1460 non-null   object \n",
            " 22  RoofMatl       1460 non-null   object \n",
            " 23  Exterior1st    1460 non-null   object \n",
            " 24  Exterior2nd    1460 non-null   object \n",
            " 25  MasVnrType     1452 non-null   object \n",
            " 26  MasVnrArea     1452 non-null   float64\n",
            " 27  ExterQual      1460 non-null   object \n",
            " 28  ExterCond      1460 non-null   object \n",
            " 29  Foundation     1460 non-null   object \n",
            " 30  BsmtQual       1423 non-null   object \n",
            " 31  BsmtCond       1423 non-null   object \n",
            " 32  BsmtExposure   1422 non-null   object \n",
            " 33  BsmtFinType1   1423 non-null   object \n",
            " 34  BsmtFinSF1     1460 non-null   int64  \n",
            " 35  BsmtFinType2   1422 non-null   object \n",
            " 36  BsmtFinSF2     1460 non-null   int64  \n",
            " 37  BsmtUnfSF      1460 non-null   int64  \n",
            " 38  TotalBsmtSF    1460 non-null   int64  \n",
            " 39  Heating        1460 non-null   object \n",
            " 40  HeatingQC      1460 non-null   object \n",
            " 41  CentralAir     1460 non-null   object \n",
            " 42  Electrical     1459 non-null   object \n",
            " 43  1stFlrSF       1460 non-null   int64  \n",
            " 44  2ndFlrSF       1460 non-null   int64  \n",
            " 45  LowQualFinSF   1460 non-null   int64  \n",
            " 46  GrLivArea      1460 non-null   int64  \n",
            " 47  BsmtFullBath   1460 non-null   int64  \n",
            " 48  BsmtHalfBath   1460 non-null   int64  \n",
            " 49  FullBath       1460 non-null   int64  \n",
            " 50  HalfBath       1460 non-null   int64  \n",
            " 51  BedroomAbvGr   1460 non-null   int64  \n",
            " 52  KitchenAbvGr   1460 non-null   int64  \n",
            " 53  KitchenQual    1460 non-null   object \n",
            " 54  TotRmsAbvGrd   1460 non-null   int64  \n",
            " 55  Functional     1460 non-null   object \n",
            " 56  Fireplaces     1460 non-null   int64  \n",
            " 57  FireplaceQu    770 non-null    object \n",
            " 58  GarageType     1379 non-null   object \n",
            " 59  GarageYrBlt    1379 non-null   float64\n",
            " 60  GarageFinish   1379 non-null   object \n",
            " 61  GarageCars     1460 non-null   int64  \n",
            " 62  GarageArea     1460 non-null   int64  \n",
            " 63  GarageQual     1379 non-null   object \n",
            " 64  GarageCond     1379 non-null   object \n",
            " 65  PavedDrive     1460 non-null   object \n",
            " 66  WoodDeckSF     1460 non-null   int64  \n",
            " 67  OpenPorchSF    1460 non-null   int64  \n",
            " 68  EnclosedPorch  1460 non-null   int64  \n",
            " 69  3SsnPorch      1460 non-null   int64  \n",
            " 70  ScreenPorch    1460 non-null   int64  \n",
            " 71  PoolArea       1460 non-null   int64  \n",
            " 72  PoolQC         7 non-null      object \n",
            " 73  Fence          281 non-null    object \n",
            " 74  MiscFeature    54 non-null     object \n",
            " 75  MiscVal        1460 non-null   int64  \n",
            " 76  MoSold         1460 non-null   int64  \n",
            " 77  YrSold         1460 non-null   int64  \n",
            " 78  SaleType       1460 non-null   object \n",
            " 79  SaleCondition  1460 non-null   object \n",
            " 80  SalePrice      1460 non-null   int64  \n",
            "dtypes: float64(3), int64(35), object(43)\n",
            "memory usage: 924.0+ KB\n"
          ]
        }
      ],
      "source": [
        "data.info()"
      ]
    },
    {
      "cell_type": "code",
      "execution_count": 8,
      "metadata": {},
      "outputs": [],
      "source": [
        "y = data.SalePrice\n",
        "X = data.drop(['SalePrice'], axis=1)\n",
        "\n",
        "X_train, X_test, y_train, y_test = train_test_split(X, y, test_size=0.2, random_state=42)"
      ]
    },
    {
      "cell_type": "markdown",
      "metadata": {
        "id": "sIJGL5AUKjqO"
      },
      "source": [
        "#2. Levantamento de hipóteses (1.0 ponto)\n",
        "Descreva quais hipóteses você observou ao fazer a análise exploratória de dados."
      ]
    },
    {
      "cell_type": "markdown",
      "metadata": {
        "id": "oVshazIkKo9G"
      },
      "source": [
        "#3. Apresentação das ideias obtidas (1.0 ponto)\n",
        "Apresente com gráficos as suas observações e a descreva cada gráfico."
      ]
    },
    {
      "cell_type": "markdown",
      "metadata": {
        "id": "R-fKO-pJKsVd"
      },
      "source": [
        "#4. Preparação dos dados (1.0 ponto)\n",
        "Faça um processamento nos dados, preenchendo valores faltantes, removendo dados ou variáveis inconsistentes e normalizado os dados"
      ]
    },
    {
      "cell_type": "code",
      "execution_count": 38,
      "metadata": {},
      "outputs": [
        {
          "data": {
            "text/html": [
              "<style>#sk-container-id-9 {color: black;background-color: white;}#sk-container-id-9 pre{padding: 0;}#sk-container-id-9 div.sk-toggleable {background-color: white;}#sk-container-id-9 label.sk-toggleable__label {cursor: pointer;display: block;width: 100%;margin-bottom: 0;padding: 0.3em;box-sizing: border-box;text-align: center;}#sk-container-id-9 label.sk-toggleable__label-arrow:before {content: \"▸\";float: left;margin-right: 0.25em;color: #696969;}#sk-container-id-9 label.sk-toggleable__label-arrow:hover:before {color: black;}#sk-container-id-9 div.sk-estimator:hover label.sk-toggleable__label-arrow:before {color: black;}#sk-container-id-9 div.sk-toggleable__content {max-height: 0;max-width: 0;overflow: hidden;text-align: left;background-color: #f0f8ff;}#sk-container-id-9 div.sk-toggleable__content pre {margin: 0.2em;color: black;border-radius: 0.25em;background-color: #f0f8ff;}#sk-container-id-9 input.sk-toggleable__control:checked~div.sk-toggleable__content {max-height: 200px;max-width: 100%;overflow: auto;}#sk-container-id-9 input.sk-toggleable__control:checked~label.sk-toggleable__label-arrow:before {content: \"▾\";}#sk-container-id-9 div.sk-estimator input.sk-toggleable__control:checked~label.sk-toggleable__label {background-color: #d4ebff;}#sk-container-id-9 div.sk-label input.sk-toggleable__control:checked~label.sk-toggleable__label {background-color: #d4ebff;}#sk-container-id-9 input.sk-hidden--visually {border: 0;clip: rect(1px 1px 1px 1px);clip: rect(1px, 1px, 1px, 1px);height: 1px;margin: -1px;overflow: hidden;padding: 0;position: absolute;width: 1px;}#sk-container-id-9 div.sk-estimator {font-family: monospace;background-color: #f0f8ff;border: 1px dotted black;border-radius: 0.25em;box-sizing: border-box;margin-bottom: 0.5em;}#sk-container-id-9 div.sk-estimator:hover {background-color: #d4ebff;}#sk-container-id-9 div.sk-parallel-item::after {content: \"\";width: 100%;border-bottom: 1px solid gray;flex-grow: 1;}#sk-container-id-9 div.sk-label:hover label.sk-toggleable__label {background-color: #d4ebff;}#sk-container-id-9 div.sk-serial::before {content: \"\";position: absolute;border-left: 1px solid gray;box-sizing: border-box;top: 0;bottom: 0;left: 50%;z-index: 0;}#sk-container-id-9 div.sk-serial {display: flex;flex-direction: column;align-items: center;background-color: white;padding-right: 0.2em;padding-left: 0.2em;position: relative;}#sk-container-id-9 div.sk-item {position: relative;z-index: 1;}#sk-container-id-9 div.sk-parallel {display: flex;align-items: stretch;justify-content: center;background-color: white;position: relative;}#sk-container-id-9 div.sk-item::before, #sk-container-id-9 div.sk-parallel-item::before {content: \"\";position: absolute;border-left: 1px solid gray;box-sizing: border-box;top: 0;bottom: 0;left: 50%;z-index: -1;}#sk-container-id-9 div.sk-parallel-item {display: flex;flex-direction: column;z-index: 1;position: relative;background-color: white;}#sk-container-id-9 div.sk-parallel-item:first-child::after {align-self: flex-end;width: 50%;}#sk-container-id-9 div.sk-parallel-item:last-child::after {align-self: flex-start;width: 50%;}#sk-container-id-9 div.sk-parallel-item:only-child::after {width: 0;}#sk-container-id-9 div.sk-dashed-wrapped {border: 1px dashed gray;margin: 0 0.4em 0.5em 0.4em;box-sizing: border-box;padding-bottom: 0.4em;background-color: white;}#sk-container-id-9 div.sk-label label {font-family: monospace;font-weight: bold;display: inline-block;line-height: 1.2em;}#sk-container-id-9 div.sk-label-container {text-align: center;}#sk-container-id-9 div.sk-container {/* jupyter's `normalize.less` sets `[hidden] { display: none; }` but bootstrap.min.css set `[hidden] { display: none !important; }` so we also need the `!important` here to be able to override the default hidden behavior on the sphinx rendered scikit-learn.org. See: https://github.com/scikit-learn/scikit-learn/issues/21755 */display: inline-block !important;position: relative;}#sk-container-id-9 div.sk-text-repr-fallback {display: none;}</style><div id=\"sk-container-id-9\" class=\"sk-top-container\"><div class=\"sk-text-repr-fallback\"><pre>Pipeline(steps=[(&#x27;preprocessor&#x27;,\n",
              "                 ColumnTransformer(transformers=[(&#x27;num&#x27;,\n",
              "                                                  Pipeline(steps=[(&#x27;imputer&#x27;,\n",
              "                                                                   SimpleImputer(strategy=&#x27;median&#x27;)),\n",
              "                                                                  (&#x27;scaler&#x27;,\n",
              "                                                                   StandardScaler())]),\n",
              "                                                  &lt;sklearn.compose._column_transformer.make_column_selector object at 0x000001D1A59D71F0&gt;),\n",
              "                                                 (&#x27;cat&#x27;,\n",
              "                                                  Pipeline(steps=[(&#x27;imputer&#x27;,\n",
              "                                                                   SimpleImputer(fill_value=&#x27;0&#x27;,\n",
              "                                                                                 strategy=&#x27;constant&#x27;)),\n",
              "                                                                  (&#x27;one_hot_encoder&#x27;,\n",
              "                                                                   OneHotEncoder(drop=&#x27;if_binary&#x27;,\n",
              "                                                                                 dtype=&lt;class &#x27;int&#x27;&gt;,\n",
              "                                                                                 handle_unknown=&#x27;ignore&#x27;,\n",
              "                                                                                 sparse=False))]),\n",
              "                                                  &lt;sklearn.compose._column_transformer.make_column_selector object at 0x000001D1A59D7280&gt;)])),\n",
              "                (&#x27;lassocv&#x27;, LassoCV(cv=5))])</pre><b>In a Jupyter environment, please rerun this cell to show the HTML representation or trust the notebook. <br />On GitHub, the HTML representation is unable to render, please try loading this page with nbviewer.org.</b></div><div class=\"sk-container\" hidden><div class=\"sk-item sk-dashed-wrapped\"><div class=\"sk-label-container\"><div class=\"sk-label sk-toggleable\"><input class=\"sk-toggleable__control sk-hidden--visually\" id=\"sk-estimator-id-87\" type=\"checkbox\" ><label for=\"sk-estimator-id-87\" class=\"sk-toggleable__label sk-toggleable__label-arrow\">Pipeline</label><div class=\"sk-toggleable__content\"><pre>Pipeline(steps=[(&#x27;preprocessor&#x27;,\n",
              "                 ColumnTransformer(transformers=[(&#x27;num&#x27;,\n",
              "                                                  Pipeline(steps=[(&#x27;imputer&#x27;,\n",
              "                                                                   SimpleImputer(strategy=&#x27;median&#x27;)),\n",
              "                                                                  (&#x27;scaler&#x27;,\n",
              "                                                                   StandardScaler())]),\n",
              "                                                  &lt;sklearn.compose._column_transformer.make_column_selector object at 0x000001D1A59D71F0&gt;),\n",
              "                                                 (&#x27;cat&#x27;,\n",
              "                                                  Pipeline(steps=[(&#x27;imputer&#x27;,\n",
              "                                                                   SimpleImputer(fill_value=&#x27;0&#x27;,\n",
              "                                                                                 strategy=&#x27;constant&#x27;)),\n",
              "                                                                  (&#x27;one_hot_encoder&#x27;,\n",
              "                                                                   OneHotEncoder(drop=&#x27;if_binary&#x27;,\n",
              "                                                                                 dtype=&lt;class &#x27;int&#x27;&gt;,\n",
              "                                                                                 handle_unknown=&#x27;ignore&#x27;,\n",
              "                                                                                 sparse=False))]),\n",
              "                                                  &lt;sklearn.compose._column_transformer.make_column_selector object at 0x000001D1A59D7280&gt;)])),\n",
              "                (&#x27;lassocv&#x27;, LassoCV(cv=5))])</pre></div></div></div><div class=\"sk-serial\"><div class=\"sk-item sk-dashed-wrapped\"><div class=\"sk-label-container\"><div class=\"sk-label sk-toggleable\"><input class=\"sk-toggleable__control sk-hidden--visually\" id=\"sk-estimator-id-88\" type=\"checkbox\" ><label for=\"sk-estimator-id-88\" class=\"sk-toggleable__label sk-toggleable__label-arrow\">preprocessor: ColumnTransformer</label><div class=\"sk-toggleable__content\"><pre>ColumnTransformer(transformers=[(&#x27;num&#x27;,\n",
              "                                 Pipeline(steps=[(&#x27;imputer&#x27;,\n",
              "                                                  SimpleImputer(strategy=&#x27;median&#x27;)),\n",
              "                                                 (&#x27;scaler&#x27;, StandardScaler())]),\n",
              "                                 &lt;sklearn.compose._column_transformer.make_column_selector object at 0x000001D1A59D71F0&gt;),\n",
              "                                (&#x27;cat&#x27;,\n",
              "                                 Pipeline(steps=[(&#x27;imputer&#x27;,\n",
              "                                                  SimpleImputer(fill_value=&#x27;0&#x27;,\n",
              "                                                                strategy=&#x27;constant&#x27;)),\n",
              "                                                 (&#x27;one_hot_encoder&#x27;,\n",
              "                                                  OneHotEncoder(drop=&#x27;if_binary&#x27;,\n",
              "                                                                dtype=&lt;class &#x27;int&#x27;&gt;,\n",
              "                                                                handle_unknown=&#x27;ignore&#x27;,\n",
              "                                                                sparse=False))]),\n",
              "                                 &lt;sklearn.compose._column_transformer.make_column_selector object at 0x000001D1A59D7280&gt;)])</pre></div></div></div><div class=\"sk-parallel\"><div class=\"sk-parallel-item\"><div class=\"sk-item\"><div class=\"sk-label-container\"><div class=\"sk-label sk-toggleable\"><input class=\"sk-toggleable__control sk-hidden--visually\" id=\"sk-estimator-id-89\" type=\"checkbox\" ><label for=\"sk-estimator-id-89\" class=\"sk-toggleable__label sk-toggleable__label-arrow\">num</label><div class=\"sk-toggleable__content\"><pre>&lt;sklearn.compose._column_transformer.make_column_selector object at 0x000001D1A59D71F0&gt;</pre></div></div></div><div class=\"sk-serial\"><div class=\"sk-item\"><div class=\"sk-serial\"><div class=\"sk-item\"><div class=\"sk-estimator sk-toggleable\"><input class=\"sk-toggleable__control sk-hidden--visually\" id=\"sk-estimator-id-90\" type=\"checkbox\" ><label for=\"sk-estimator-id-90\" class=\"sk-toggleable__label sk-toggleable__label-arrow\">SimpleImputer</label><div class=\"sk-toggleable__content\"><pre>SimpleImputer(strategy=&#x27;median&#x27;)</pre></div></div></div><div class=\"sk-item\"><div class=\"sk-estimator sk-toggleable\"><input class=\"sk-toggleable__control sk-hidden--visually\" id=\"sk-estimator-id-91\" type=\"checkbox\" ><label for=\"sk-estimator-id-91\" class=\"sk-toggleable__label sk-toggleable__label-arrow\">StandardScaler</label><div class=\"sk-toggleable__content\"><pre>StandardScaler()</pre></div></div></div></div></div></div></div></div><div class=\"sk-parallel-item\"><div class=\"sk-item\"><div class=\"sk-label-container\"><div class=\"sk-label sk-toggleable\"><input class=\"sk-toggleable__control sk-hidden--visually\" id=\"sk-estimator-id-92\" type=\"checkbox\" ><label for=\"sk-estimator-id-92\" class=\"sk-toggleable__label sk-toggleable__label-arrow\">cat</label><div class=\"sk-toggleable__content\"><pre>&lt;sklearn.compose._column_transformer.make_column_selector object at 0x000001D1A59D7280&gt;</pre></div></div></div><div class=\"sk-serial\"><div class=\"sk-item\"><div class=\"sk-serial\"><div class=\"sk-item\"><div class=\"sk-estimator sk-toggleable\"><input class=\"sk-toggleable__control sk-hidden--visually\" id=\"sk-estimator-id-93\" type=\"checkbox\" ><label for=\"sk-estimator-id-93\" class=\"sk-toggleable__label sk-toggleable__label-arrow\">SimpleImputer</label><div class=\"sk-toggleable__content\"><pre>SimpleImputer(fill_value=&#x27;0&#x27;, strategy=&#x27;constant&#x27;)</pre></div></div></div><div class=\"sk-item\"><div class=\"sk-estimator sk-toggleable\"><input class=\"sk-toggleable__control sk-hidden--visually\" id=\"sk-estimator-id-94\" type=\"checkbox\" ><label for=\"sk-estimator-id-94\" class=\"sk-toggleable__label sk-toggleable__label-arrow\">OneHotEncoder</label><div class=\"sk-toggleable__content\"><pre>OneHotEncoder(drop=&#x27;if_binary&#x27;, dtype=&lt;class &#x27;int&#x27;&gt;, handle_unknown=&#x27;ignore&#x27;,\n",
              "              sparse=False)</pre></div></div></div></div></div></div></div></div></div></div><div class=\"sk-item\"><div class=\"sk-estimator sk-toggleable\"><input class=\"sk-toggleable__control sk-hidden--visually\" id=\"sk-estimator-id-95\" type=\"checkbox\" ><label for=\"sk-estimator-id-95\" class=\"sk-toggleable__label sk-toggleable__label-arrow\">LassoCV</label><div class=\"sk-toggleable__content\"><pre>LassoCV(cv=5)</pre></div></div></div></div></div></div></div>"
            ],
            "text/plain": [
              "Pipeline(steps=[('preprocessor',\n",
              "                 ColumnTransformer(transformers=[('num',\n",
              "                                                  Pipeline(steps=[('imputer',\n",
              "                                                                   SimpleImputer(strategy='median')),\n",
              "                                                                  ('scaler',\n",
              "                                                                   StandardScaler())]),\n",
              "                                                  <sklearn.compose._column_transformer.make_column_selector object at 0x000001D1A59D71F0>),\n",
              "                                                 ('cat',\n",
              "                                                  Pipeline(steps=[('imputer',\n",
              "                                                                   SimpleImputer(fill_value='0',\n",
              "                                                                                 strategy='constant')),\n",
              "                                                                  ('one_hot_encoder',\n",
              "                                                                   OneHotEncoder(drop='if_binary',\n",
              "                                                                                 dtype=<class 'int'>,\n",
              "                                                                                 handle_unknown='ignore',\n",
              "                                                                                 sparse=False))]),\n",
              "                                                  <sklearn.compose._column_transformer.make_column_selector object at 0x000001D1A59D7280>)])),\n",
              "                ('lassocv', LassoCV(cv=5))])"
            ]
          },
          "execution_count": 38,
          "metadata": {},
          "output_type": "execute_result"
        }
      ],
      "source": [
        "col_num = make_column_selector(dtype_include=np.number)\n",
        "col_tex = make_column_selector(dtype_include=object)\n",
        "\n",
        "numeric_transformer = Pipeline(\n",
        "  steps=[\n",
        "          (\"imputer\", SimpleImputer(strategy=\"median\")),\n",
        "          (\"scaler\", StandardScaler()),\n",
        "        ]\n",
        ")\n",
        "categorical_transformer = Pipeline(\n",
        "  steps=[\n",
        "          (\"imputer\", SimpleImputer(strategy=\"constant\", fill_value=\"0\")),\n",
        "          (\"one_hot_encoder\", OneHotEncoder(dtype=int, handle_unknown='ignore', drop='if_binary', sparse=False)),\n",
        "        ]\n",
        ")\n",
        "preprocessor = ColumnTransformer(\n",
        "  transformers=[\n",
        "    (\"num\", numeric_transformer, col_num),\n",
        "    (\"cat\", categorical_transformer, col_tex)\n",
        "  ]\n",
        ")\n",
        "modelLassoCV = Pipeline(\n",
        "  steps=[\n",
        "    (\"preprocessor\", preprocessor),\n",
        "    (\"lassocv\", LassoCV(cv=5))\n",
        "  ]\n",
        ")\n",
        "\n",
        "modelLassoCV"
      ]
    },
    {
      "cell_type": "code",
      "execution_count": 10,
      "metadata": {},
      "outputs": [
        {
          "name": "stdout",
          "output_type": "stream",
          "text": [
            "\n",
            "Número de Features Original: 300\n",
            "Número de Features selecionadas pelo LassoCV: 90\n",
            "Features Selecionadas:\n",
            "['Id' 'MSSubClass' 'LotFrontage' 'LotArea' 'OverallQual' 'OverallCond'\n",
            " 'YearBuilt' 'YearRemodAdd' 'MasVnrArea' 'BsmtFinSF1' 'BsmtFinSF2'\n",
            " 'TotalBsmtSF' '2ndFlrSF' 'LowQualFinSF' 'GrLivArea' 'BsmtFullBath'\n",
            " 'BsmtHalfBath' 'FullBath' 'HalfBath' 'BedroomAbvGr' 'KitchenAbvGr'\n",
            " 'TotRmsAbvGrd' 'Fireplaces' 'GarageYrBlt' 'GarageCars' 'GarageArea'\n",
            " 'WoodDeckSF' 'OpenPorchSF' '3SsnPorch' 'ScreenPorch' 'PoolArea' 'MiscVal'\n",
            " 'MoSold' 'x0_RM' 'x3_IR2' 'x4_Bnk' 'x4_HLS' 'x6_CulDSac' 'x7_Mod'\n",
            " 'x8_BrkSide' 'x8_Crawfor' 'x8_Edwards' 'x8_Gilbert' 'x8_Mitchel'\n",
            " 'x8_NAmes' 'x8_NWAmes' 'x8_NoRidge' 'x8_NridgHt' 'x8_Somerst'\n",
            " 'x8_StoneBr' 'x9_Norm' 'x10_PosN' 'x11_1Fam' 'x11_2fmCon' 'x12_1Story'\n",
            " 'x12_2Story' 'x13_Gable' 'x14_ClyTile' 'x15_BrkFace' 'x15_HdBoard'\n",
            " 'x16_ImStucc' 'x16_Plywood' 'x17_BrkFace' 'x17_None' 'x18_Ex' 'x18_TA'\n",
            " 'x20_BrkTil' 'x20_PConc' 'x21_Ex' 'x22_TA' 'x23_Gd' 'x23_No' 'x24_GLQ'\n",
            " 'x24_Unf' 'x25_Unf' 'x27_Ex' 'x27_Gd' 'x30_Ex' 'x30_TA' 'x31_Typ'\n",
            " 'x32_Gd' 'x33_0' 'x34_0' 'x35_0' 'x35_Fa' 'x35_TA' 'x36_0' 'x39_MnPrv'\n",
            " 'x42_Abnorml' 'x42_Partial']\n",
            "\n"
          ]
        }
      ],
      "source": [
        "modelLassoCV.fit(X_train, y_train)\n",
        "y_pred = modelLassoCV.predict(X_test)\n",
        "\n",
        "preprocessor_fitted = modelLassoCV['preprocessor']\n",
        "\n",
        "feature_names = (\n",
        "  list(preprocessor_fitted.named_transformers_['num']['imputer'].get_feature_names_out()) +\n",
        "  list(preprocessor_fitted.named_transformers_['cat']['one_hot_encoder'].get_feature_names_out())\n",
        ")\n",
        "\n",
        "feature_names = np.array(feature_names)\n",
        "\n",
        "kept = ~np.isclose(modelLassoCV['lassocv'].coef_, 0)\n",
        "\n",
        "print(f'''\n",
        "Número de Features Original: {len(feature_names)}\n",
        "Número de Features selecionadas pelo LassoCV: {len(feature_names[kept])}\n",
        "Features Selecionadas:\n",
        "{feature_names[kept]}\n",
        "''')"
      ]
    },
    {
      "cell_type": "code",
      "execution_count": 11,
      "metadata": {},
      "outputs": [
        {
          "name": "stdout",
          "output_type": "stream",
          "text": [
            "Pontuação do Modelo: \n",
            "\n",
            "Mean Absolute Error (MAE) do Modelo Pipeline LassoCV: 17523.065\n",
            "\n",
            "Mean Squared Error (MSE) do Modelo Pipeline LassoCV: 866285046.5730\n",
            "\n",
            "Root Mean Squared Error (RMSE) do Modelo Pipeline LassoCV: 29432.7207\n",
            "\n",
            "R-squared do Modelo Pipeline LassoCV: 0.887\n",
            "\n"
          ]
        }
      ],
      "source": [
        "print(f'Pontuação do Modelo: {print_metrics(model=modelLassoCV, model_name=\"Pipeline LassoCV\", X_test=X_test, y_test=y_test, y_pred=y_pred)}')"
      ]
    },
    {
      "cell_type": "markdown",
      "metadata": {
        "id": "jh4A1uiAKv29"
      },
      "source": [
        "#5. Criação e seleção de características (1.0 ponto)\n",
        "Observando as variáveis disponíveis, é possível criar novas variáveis? Ou trazer de um dado externo novos dados para agregar aos existentes? É possível selecionar uma variável ou grupo de variáveis que melhor explica a variável dependente?"
      ]
    },
    {
      "cell_type": "markdown",
      "metadata": {},
      "source": [
        "Criando pipeline utilizando o pca."
      ]
    },
    {
      "cell_type": "code",
      "execution_count": 12,
      "metadata": {},
      "outputs": [
        {
          "data": {
            "text/html": [
              "<style>#sk-container-id-2 {color: black;background-color: white;}#sk-container-id-2 pre{padding: 0;}#sk-container-id-2 div.sk-toggleable {background-color: white;}#sk-container-id-2 label.sk-toggleable__label {cursor: pointer;display: block;width: 100%;margin-bottom: 0;padding: 0.3em;box-sizing: border-box;text-align: center;}#sk-container-id-2 label.sk-toggleable__label-arrow:before {content: \"▸\";float: left;margin-right: 0.25em;color: #696969;}#sk-container-id-2 label.sk-toggleable__label-arrow:hover:before {color: black;}#sk-container-id-2 div.sk-estimator:hover label.sk-toggleable__label-arrow:before {color: black;}#sk-container-id-2 div.sk-toggleable__content {max-height: 0;max-width: 0;overflow: hidden;text-align: left;background-color: #f0f8ff;}#sk-container-id-2 div.sk-toggleable__content pre {margin: 0.2em;color: black;border-radius: 0.25em;background-color: #f0f8ff;}#sk-container-id-2 input.sk-toggleable__control:checked~div.sk-toggleable__content {max-height: 200px;max-width: 100%;overflow: auto;}#sk-container-id-2 input.sk-toggleable__control:checked~label.sk-toggleable__label-arrow:before {content: \"▾\";}#sk-container-id-2 div.sk-estimator input.sk-toggleable__control:checked~label.sk-toggleable__label {background-color: #d4ebff;}#sk-container-id-2 div.sk-label input.sk-toggleable__control:checked~label.sk-toggleable__label {background-color: #d4ebff;}#sk-container-id-2 input.sk-hidden--visually {border: 0;clip: rect(1px 1px 1px 1px);clip: rect(1px, 1px, 1px, 1px);height: 1px;margin: -1px;overflow: hidden;padding: 0;position: absolute;width: 1px;}#sk-container-id-2 div.sk-estimator {font-family: monospace;background-color: #f0f8ff;border: 1px dotted black;border-radius: 0.25em;box-sizing: border-box;margin-bottom: 0.5em;}#sk-container-id-2 div.sk-estimator:hover {background-color: #d4ebff;}#sk-container-id-2 div.sk-parallel-item::after {content: \"\";width: 100%;border-bottom: 1px solid gray;flex-grow: 1;}#sk-container-id-2 div.sk-label:hover label.sk-toggleable__label {background-color: #d4ebff;}#sk-container-id-2 div.sk-serial::before {content: \"\";position: absolute;border-left: 1px solid gray;box-sizing: border-box;top: 0;bottom: 0;left: 50%;z-index: 0;}#sk-container-id-2 div.sk-serial {display: flex;flex-direction: column;align-items: center;background-color: white;padding-right: 0.2em;padding-left: 0.2em;position: relative;}#sk-container-id-2 div.sk-item {position: relative;z-index: 1;}#sk-container-id-2 div.sk-parallel {display: flex;align-items: stretch;justify-content: center;background-color: white;position: relative;}#sk-container-id-2 div.sk-item::before, #sk-container-id-2 div.sk-parallel-item::before {content: \"\";position: absolute;border-left: 1px solid gray;box-sizing: border-box;top: 0;bottom: 0;left: 50%;z-index: -1;}#sk-container-id-2 div.sk-parallel-item {display: flex;flex-direction: column;z-index: 1;position: relative;background-color: white;}#sk-container-id-2 div.sk-parallel-item:first-child::after {align-self: flex-end;width: 50%;}#sk-container-id-2 div.sk-parallel-item:last-child::after {align-self: flex-start;width: 50%;}#sk-container-id-2 div.sk-parallel-item:only-child::after {width: 0;}#sk-container-id-2 div.sk-dashed-wrapped {border: 1px dashed gray;margin: 0 0.4em 0.5em 0.4em;box-sizing: border-box;padding-bottom: 0.4em;background-color: white;}#sk-container-id-2 div.sk-label label {font-family: monospace;font-weight: bold;display: inline-block;line-height: 1.2em;}#sk-container-id-2 div.sk-label-container {text-align: center;}#sk-container-id-2 div.sk-container {/* jupyter's `normalize.less` sets `[hidden] { display: none; }` but bootstrap.min.css set `[hidden] { display: none !important; }` so we also need the `!important` here to be able to override the default hidden behavior on the sphinx rendered scikit-learn.org. See: https://github.com/scikit-learn/scikit-learn/issues/21755 */display: inline-block !important;position: relative;}#sk-container-id-2 div.sk-text-repr-fallback {display: none;}</style><div id=\"sk-container-id-2\" class=\"sk-top-container\"><div class=\"sk-text-repr-fallback\"><pre>Pipeline(steps=[(&#x27;preprocessor&#x27;,\n",
              "                 ColumnTransformer(transformers=[(&#x27;num&#x27;,\n",
              "                                                  Pipeline(steps=[(&#x27;imputer&#x27;,\n",
              "                                                                   SimpleImputer(strategy=&#x27;median&#x27;)),\n",
              "                                                                  (&#x27;scaler&#x27;,\n",
              "                                                                   StandardScaler()),\n",
              "                                                                  (&#x27;pca&#x27;,\n",
              "                                                                   PCA(n_components=&#x27;mle&#x27;))]),\n",
              "                                                  &lt;sklearn.compose._column_transformer.make_column_selector object at 0x000001D1FEF88BB0&gt;),\n",
              "                                                 (&#x27;cat&#x27;,\n",
              "                                                  Pipeline(steps=[(&#x27;imputer&#x27;,\n",
              "                                                                   SimpleImputer(fill_value=&#x27;0&#x27;,\n",
              "                                                                                 strategy=&#x27;constant&#x27;)),\n",
              "                                                                  (&#x27;one_hot_encoder&#x27;,\n",
              "                                                                   OneHotEncoder(drop=&#x27;if_binary&#x27;,\n",
              "                                                                                 dtype=&lt;class &#x27;int&#x27;&gt;,\n",
              "                                                                                 handle_unknown=&#x27;ignore&#x27;,\n",
              "                                                                                 sparse=False)),\n",
              "                                                                  (&#x27;pca&#x27;,\n",
              "                                                                   PCA(n_components=&#x27;mle&#x27;))]),\n",
              "                                                  &lt;sklearn.compose._column_transformer.make_column_selector object at 0x000001D1FEF8BE50&gt;)])),\n",
              "                (&#x27;lassocv&#x27;, LassoCV(cv=5))])</pre><b>In a Jupyter environment, please rerun this cell to show the HTML representation or trust the notebook. <br />On GitHub, the HTML representation is unable to render, please try loading this page with nbviewer.org.</b></div><div class=\"sk-container\" hidden><div class=\"sk-item sk-dashed-wrapped\"><div class=\"sk-label-container\"><div class=\"sk-label sk-toggleable\"><input class=\"sk-toggleable__control sk-hidden--visually\" id=\"sk-estimator-id-10\" type=\"checkbox\" ><label for=\"sk-estimator-id-10\" class=\"sk-toggleable__label sk-toggleable__label-arrow\">Pipeline</label><div class=\"sk-toggleable__content\"><pre>Pipeline(steps=[(&#x27;preprocessor&#x27;,\n",
              "                 ColumnTransformer(transformers=[(&#x27;num&#x27;,\n",
              "                                                  Pipeline(steps=[(&#x27;imputer&#x27;,\n",
              "                                                                   SimpleImputer(strategy=&#x27;median&#x27;)),\n",
              "                                                                  (&#x27;scaler&#x27;,\n",
              "                                                                   StandardScaler()),\n",
              "                                                                  (&#x27;pca&#x27;,\n",
              "                                                                   PCA(n_components=&#x27;mle&#x27;))]),\n",
              "                                                  &lt;sklearn.compose._column_transformer.make_column_selector object at 0x000001D1FEF88BB0&gt;),\n",
              "                                                 (&#x27;cat&#x27;,\n",
              "                                                  Pipeline(steps=[(&#x27;imputer&#x27;,\n",
              "                                                                   SimpleImputer(fill_value=&#x27;0&#x27;,\n",
              "                                                                                 strategy=&#x27;constant&#x27;)),\n",
              "                                                                  (&#x27;one_hot_encoder&#x27;,\n",
              "                                                                   OneHotEncoder(drop=&#x27;if_binary&#x27;,\n",
              "                                                                                 dtype=&lt;class &#x27;int&#x27;&gt;,\n",
              "                                                                                 handle_unknown=&#x27;ignore&#x27;,\n",
              "                                                                                 sparse=False)),\n",
              "                                                                  (&#x27;pca&#x27;,\n",
              "                                                                   PCA(n_components=&#x27;mle&#x27;))]),\n",
              "                                                  &lt;sklearn.compose._column_transformer.make_column_selector object at 0x000001D1FEF8BE50&gt;)])),\n",
              "                (&#x27;lassocv&#x27;, LassoCV(cv=5))])</pre></div></div></div><div class=\"sk-serial\"><div class=\"sk-item sk-dashed-wrapped\"><div class=\"sk-label-container\"><div class=\"sk-label sk-toggleable\"><input class=\"sk-toggleable__control sk-hidden--visually\" id=\"sk-estimator-id-11\" type=\"checkbox\" ><label for=\"sk-estimator-id-11\" class=\"sk-toggleable__label sk-toggleable__label-arrow\">preprocessor: ColumnTransformer</label><div class=\"sk-toggleable__content\"><pre>ColumnTransformer(transformers=[(&#x27;num&#x27;,\n",
              "                                 Pipeline(steps=[(&#x27;imputer&#x27;,\n",
              "                                                  SimpleImputer(strategy=&#x27;median&#x27;)),\n",
              "                                                 (&#x27;scaler&#x27;, StandardScaler()),\n",
              "                                                 (&#x27;pca&#x27;,\n",
              "                                                  PCA(n_components=&#x27;mle&#x27;))]),\n",
              "                                 &lt;sklearn.compose._column_transformer.make_column_selector object at 0x000001D1FEF88BB0&gt;),\n",
              "                                (&#x27;cat&#x27;,\n",
              "                                 Pipeline(steps=[(&#x27;imputer&#x27;,\n",
              "                                                  SimpleImputer(fill_value=&#x27;0&#x27;,\n",
              "                                                                strategy=&#x27;constant&#x27;)),\n",
              "                                                 (&#x27;one_hot_encoder&#x27;,\n",
              "                                                  OneHotEncoder(drop=&#x27;if_binary&#x27;,\n",
              "                                                                dtype=&lt;class &#x27;int&#x27;&gt;,\n",
              "                                                                handle_unknown=&#x27;ignore&#x27;,\n",
              "                                                                sparse=False)),\n",
              "                                                 (&#x27;pca&#x27;,\n",
              "                                                  PCA(n_components=&#x27;mle&#x27;))]),\n",
              "                                 &lt;sklearn.compose._column_transformer.make_column_selector object at 0x000001D1FEF8BE50&gt;)])</pre></div></div></div><div class=\"sk-parallel\"><div class=\"sk-parallel-item\"><div class=\"sk-item\"><div class=\"sk-label-container\"><div class=\"sk-label sk-toggleable\"><input class=\"sk-toggleable__control sk-hidden--visually\" id=\"sk-estimator-id-12\" type=\"checkbox\" ><label for=\"sk-estimator-id-12\" class=\"sk-toggleable__label sk-toggleable__label-arrow\">num</label><div class=\"sk-toggleable__content\"><pre>&lt;sklearn.compose._column_transformer.make_column_selector object at 0x000001D1FEF88BB0&gt;</pre></div></div></div><div class=\"sk-serial\"><div class=\"sk-item\"><div class=\"sk-serial\"><div class=\"sk-item\"><div class=\"sk-estimator sk-toggleable\"><input class=\"sk-toggleable__control sk-hidden--visually\" id=\"sk-estimator-id-13\" type=\"checkbox\" ><label for=\"sk-estimator-id-13\" class=\"sk-toggleable__label sk-toggleable__label-arrow\">SimpleImputer</label><div class=\"sk-toggleable__content\"><pre>SimpleImputer(strategy=&#x27;median&#x27;)</pre></div></div></div><div class=\"sk-item\"><div class=\"sk-estimator sk-toggleable\"><input class=\"sk-toggleable__control sk-hidden--visually\" id=\"sk-estimator-id-14\" type=\"checkbox\" ><label for=\"sk-estimator-id-14\" class=\"sk-toggleable__label sk-toggleable__label-arrow\">StandardScaler</label><div class=\"sk-toggleable__content\"><pre>StandardScaler()</pre></div></div></div><div class=\"sk-item\"><div class=\"sk-estimator sk-toggleable\"><input class=\"sk-toggleable__control sk-hidden--visually\" id=\"sk-estimator-id-15\" type=\"checkbox\" ><label for=\"sk-estimator-id-15\" class=\"sk-toggleable__label sk-toggleable__label-arrow\">PCA</label><div class=\"sk-toggleable__content\"><pre>PCA(n_components=&#x27;mle&#x27;)</pre></div></div></div></div></div></div></div></div><div class=\"sk-parallel-item\"><div class=\"sk-item\"><div class=\"sk-label-container\"><div class=\"sk-label sk-toggleable\"><input class=\"sk-toggleable__control sk-hidden--visually\" id=\"sk-estimator-id-16\" type=\"checkbox\" ><label for=\"sk-estimator-id-16\" class=\"sk-toggleable__label sk-toggleable__label-arrow\">cat</label><div class=\"sk-toggleable__content\"><pre>&lt;sklearn.compose._column_transformer.make_column_selector object at 0x000001D1FEF8BE50&gt;</pre></div></div></div><div class=\"sk-serial\"><div class=\"sk-item\"><div class=\"sk-serial\"><div class=\"sk-item\"><div class=\"sk-estimator sk-toggleable\"><input class=\"sk-toggleable__control sk-hidden--visually\" id=\"sk-estimator-id-17\" type=\"checkbox\" ><label for=\"sk-estimator-id-17\" class=\"sk-toggleable__label sk-toggleable__label-arrow\">SimpleImputer</label><div class=\"sk-toggleable__content\"><pre>SimpleImputer(fill_value=&#x27;0&#x27;, strategy=&#x27;constant&#x27;)</pre></div></div></div><div class=\"sk-item\"><div class=\"sk-estimator sk-toggleable\"><input class=\"sk-toggleable__control sk-hidden--visually\" id=\"sk-estimator-id-18\" type=\"checkbox\" ><label for=\"sk-estimator-id-18\" class=\"sk-toggleable__label sk-toggleable__label-arrow\">OneHotEncoder</label><div class=\"sk-toggleable__content\"><pre>OneHotEncoder(drop=&#x27;if_binary&#x27;, dtype=&lt;class &#x27;int&#x27;&gt;, handle_unknown=&#x27;ignore&#x27;,\n",
              "              sparse=False)</pre></div></div></div><div class=\"sk-item\"><div class=\"sk-estimator sk-toggleable\"><input class=\"sk-toggleable__control sk-hidden--visually\" id=\"sk-estimator-id-19\" type=\"checkbox\" ><label for=\"sk-estimator-id-19\" class=\"sk-toggleable__label sk-toggleable__label-arrow\">PCA</label><div class=\"sk-toggleable__content\"><pre>PCA(n_components=&#x27;mle&#x27;)</pre></div></div></div></div></div></div></div></div></div></div><div class=\"sk-item\"><div class=\"sk-estimator sk-toggleable\"><input class=\"sk-toggleable__control sk-hidden--visually\" id=\"sk-estimator-id-20\" type=\"checkbox\" ><label for=\"sk-estimator-id-20\" class=\"sk-toggleable__label sk-toggleable__label-arrow\">LassoCV</label><div class=\"sk-toggleable__content\"><pre>LassoCV(cv=5)</pre></div></div></div></div></div></div></div>"
            ],
            "text/plain": [
              "Pipeline(steps=[('preprocessor',\n",
              "                 ColumnTransformer(transformers=[('num',\n",
              "                                                  Pipeline(steps=[('imputer',\n",
              "                                                                   SimpleImputer(strategy='median')),\n",
              "                                                                  ('scaler',\n",
              "                                                                   StandardScaler()),\n",
              "                                                                  ('pca',\n",
              "                                                                   PCA(n_components='mle'))]),\n",
              "                                                  <sklearn.compose._column_transformer.make_column_selector object at 0x000001D1FEF88BB0>),\n",
              "                                                 ('cat',\n",
              "                                                  Pipeline(steps=[('imputer',\n",
              "                                                                   SimpleImputer(fill_value='0',\n",
              "                                                                                 strategy='constant')),\n",
              "                                                                  ('one_hot_encoder',\n",
              "                                                                   OneHotEncoder(drop='if_binary',\n",
              "                                                                                 dtype=<class 'int'>,\n",
              "                                                                                 handle_unknown='ignore',\n",
              "                                                                                 sparse=False)),\n",
              "                                                                  ('pca',\n",
              "                                                                   PCA(n_components='mle'))]),\n",
              "                                                  <sklearn.compose._column_transformer.make_column_selector object at 0x000001D1FEF8BE50>)])),\n",
              "                ('lassocv', LassoCV(cv=5))])"
            ]
          },
          "execution_count": 12,
          "metadata": {},
          "output_type": "execute_result"
        }
      ],
      "source": [
        "col_num = make_column_selector(dtype_include=np.number)\n",
        "col_tex = make_column_selector(dtype_include=object)\n",
        "\n",
        "numeric_transformer_pca = Pipeline(\n",
        "  steps=[\n",
        "          (\"imputer\", SimpleImputer(strategy=\"median\")),\n",
        "          (\"scaler\", StandardScaler()),\n",
        "          (\"pca\", PCA(n_components='mle'))\n",
        "        ]\n",
        ")\n",
        "\n",
        "categorical_transformer_pca = Pipeline(\n",
        "  steps=[\n",
        "          (\"imputer\", SimpleImputer(strategy=\"constant\", fill_value=\"0\")),\n",
        "          (\"one_hot_encoder\", OneHotEncoder(dtype=int, handle_unknown='ignore', drop='if_binary', sparse=False)),\n",
        "          (\"pca\", PCA(n_components='mle'))\n",
        "        ]\n",
        ")\n",
        "\n",
        "preprocessor = ColumnTransformer(\n",
        "  transformers=[\n",
        "    (\"num\", numeric_transformer_pca, col_num),\n",
        "    (\"cat\", categorical_transformer_pca, col_tex)\n",
        "  ]\n",
        ")\n",
        "\n",
        "modelLassoCV_pca = Pipeline(\n",
        "  steps=[\n",
        "    (\"preprocessor\", preprocessor), \n",
        "    (\"lassocv\", LassoCV(cv=5))\n",
        "  ]\n",
        ")\n",
        "\n",
        "modelLassoCV_pca"
      ]
    },
    {
      "cell_type": "code",
      "execution_count": 16,
      "metadata": {},
      "outputs": [
        {
          "name": "stdout",
          "output_type": "stream",
          "text": [
            "\n",
            "    Número de Features Original: 300\n",
            "    Número de Features selecionadas pelo lassocv: 90\n",
            "    Features Selecionadas:\n",
            "    ['Id' 'MSSubClass' 'LotFrontage' 'LotArea' 'OverallQual' 'OverallCond'\n",
            " 'YearBuilt' 'YearRemodAdd' 'MasVnrArea' 'BsmtFinSF1' 'BsmtFinSF2'\n",
            " 'TotalBsmtSF' '2ndFlrSF' 'LowQualFinSF' 'GrLivArea' 'BsmtFullBath'\n",
            " 'BsmtHalfBath' 'FullBath' 'HalfBath' 'BedroomAbvGr' 'KitchenAbvGr'\n",
            " 'TotRmsAbvGrd' 'Fireplaces' 'GarageYrBlt' 'GarageCars' 'GarageArea'\n",
            " 'WoodDeckSF' 'OpenPorchSF' '3SsnPorch' 'ScreenPorch' 'PoolArea' 'MiscVal'\n",
            " 'MoSold' 'x0_RM' 'x3_IR2' 'x4_Bnk' 'x4_HLS' 'x6_CulDSac' 'x7_Mod'\n",
            " 'x8_BrkSide' 'x8_Crawfor' 'x8_Edwards' 'x8_Gilbert' 'x8_Mitchel'\n",
            " 'x8_NAmes' 'x8_NWAmes' 'x8_NoRidge' 'x8_NridgHt' 'x8_Somerst'\n",
            " 'x8_StoneBr' 'x9_Norm' 'x10_PosN' 'x11_1Fam' 'x11_2fmCon' 'x12_1Story'\n",
            " 'x12_2Story' 'x13_Gable' 'x14_ClyTile' 'x15_BrkFace' 'x15_HdBoard'\n",
            " 'x16_ImStucc' 'x16_Plywood' 'x17_BrkFace' 'x17_None' 'x18_Ex' 'x18_TA'\n",
            " 'x20_BrkTil' 'x20_PConc' 'x21_Ex' 'x22_TA' 'x23_Gd' 'x23_No' 'x24_GLQ'\n",
            " 'x24_Unf' 'x25_Unf' 'x27_Ex' 'x27_Gd' 'x30_Ex' 'x30_TA' 'x31_Typ'\n",
            " 'x32_Gd' 'x33_0' 'x34_0' 'x35_0' 'x35_Fa' 'x35_TA' 'x36_0' 'x39_MnPrv'\n",
            " 'x42_Abnorml' 'x42_Partial']\n",
            "    \n",
            "Pontuação do Modelo: \n",
            "\n",
            "Mean Absolute Error (MAE) do Modelo Pipeline LassoCV: 18956.904\n",
            "\n",
            "Mean Squared Error (MSE) do Modelo Pipeline LassoCV: 978705610.2881\n",
            "\n",
            "Root Mean Squared Error (RMSE) do Modelo Pipeline LassoCV: 31284.2710\n",
            "\n",
            "R-squared do Modelo Pipeline LassoCV: 0.887\n",
            "\n",
            "\n",
            "Número de Features Original: 250\n",
            "Número de Features selecionadas pelo LassoCV: 108\n",
            "Features Selecionadas:\n",
            "['pca0' 'pca1' 'pca2' 'pca3' 'pca4' 'pca5' 'pca6' 'pca7' 'pca8' 'pca9'\n",
            " 'pca10' 'pca11' 'pca14' 'pca15' 'pca16' 'pca17' 'pca18' 'pca19' 'pca20'\n",
            " 'pca22' 'pca23' 'pca24' 'pca25' 'pca26' 'pca27' 'pca28' 'pca29' 'pca31'\n",
            " 'pca32' 'pca33' 'pca34' 'pca0' 'pca1' 'pca2' 'pca3' 'pca4' 'pca5' 'pca6'\n",
            " 'pca7' 'pca8' 'pca9' 'pca10' 'pca12' 'pca13' 'pca14' 'pca15' 'pca16'\n",
            " 'pca17' 'pca18' 'pca19' 'pca20' 'pca22' 'pca23' 'pca24' 'pca25' 'pca26'\n",
            " 'pca27' 'pca29' 'pca32' 'pca33' 'pca34' 'pca35' 'pca36' 'pca39' 'pca40'\n",
            " 'pca41' 'pca42' 'pca43' 'pca44' 'pca45' 'pca47' 'pca48' 'pca51' 'pca52'\n",
            " 'pca53' 'pca55' 'pca56' 'pca57' 'pca59' 'pca60' 'pca61' 'pca62' 'pca64'\n",
            " 'pca67' 'pca68' 'pca69' 'pca71' 'pca75' 'pca76' 'pca78' 'pca82' 'pca85'\n",
            " 'pca86' 'pca88' 'pca89' 'pca94' 'pca96' 'pca98' 'pca99' 'pca102' 'pca104'\n",
            " 'pca106' 'pca107' 'pca118' 'pca131' 'pca180' 'pca182' 'pca184']\n",
            "\n"
          ]
        }
      ],
      "source": [
        "modelLassoCV_pca.fit(X_train, y_train)\n",
        "y_pred = modelLassoCV_pca.predict(X_test)\n",
        "\n",
        "print(get_features(model=modelLassoCV, model_name='lassocv', ispca= False))\n",
        "\n",
        "print(f'Pontuação do Modelo: {print_metrics(model=modelLassoCV, model_name=\"Pipeline LassoCV\", X_test=X_test, y_test=y_test, y_pred=y_pred)}')\n",
        "\n",
        "preprocessor_fitted = modelLassoCV_pca['preprocessor']\n",
        "\n",
        "feature_names = (\n",
        "  list(preprocessor_fitted.named_transformers_['num']['pca'].get_feature_names_out()) +\n",
        "  list(preprocessor_fitted.named_transformers_['cat']['pca'].get_feature_names_out())\n",
        ")\n",
        "\n",
        "feature_names = np.array(feature_names)\n",
        "\n",
        "kept = ~np.isclose(modelLassoCV_pca['lassocv'].coef_, 0)\n",
        "\n",
        "print(f'''\n",
        "Número de Features Original: {len(feature_names)}\n",
        "Número de Features selecionadas pelo LassoCV: {len(feature_names[kept])}\n",
        "Features Selecionadas:\n",
        "{feature_names[kept]}\n",
        "''')"
      ]
    },
    {
      "cell_type": "code",
      "execution_count": 14,
      "metadata": {},
      "outputs": [
        {
          "name": "stdout",
          "output_type": "stream",
          "text": [
            "Pontuação do Modelo: \n",
            "\n",
            "Mean Absolute Error (MAE) do Modelo Pipeline LassoCV: 18956.904\n",
            "\n",
            "Mean Squared Error (MSE) do Modelo Pipeline LassoCV: 978705610.2881\n",
            "\n",
            "Root Mean Squared Error (RMSE) do Modelo Pipeline LassoCV: 31284.2710\n",
            "\n",
            "R-squared do Modelo Pipeline LassoCV: 0.872\n",
            "\n"
          ]
        }
      ],
      "source": [
        "print(f'Pontuação do Modelo: {print_metrics(model=modelLassoCV_pca, model_name=\"Pipeline LassoCV\", X_test=X_test, y_test=y_test, y_pred=y_pred)}')"
      ]
    },
    {
      "cell_type": "markdown",
      "metadata": {},
      "source": [
        "##Pipeline com Ridge e pca"
      ]
    },
    {
      "cell_type": "code",
      "execution_count": 24,
      "metadata": {},
      "outputs": [
        {
          "data": {
            "text/html": [
              "<style>#sk-container-id-7 {color: black;background-color: white;}#sk-container-id-7 pre{padding: 0;}#sk-container-id-7 div.sk-toggleable {background-color: white;}#sk-container-id-7 label.sk-toggleable__label {cursor: pointer;display: block;width: 100%;margin-bottom: 0;padding: 0.3em;box-sizing: border-box;text-align: center;}#sk-container-id-7 label.sk-toggleable__label-arrow:before {content: \"▸\";float: left;margin-right: 0.25em;color: #696969;}#sk-container-id-7 label.sk-toggleable__label-arrow:hover:before {color: black;}#sk-container-id-7 div.sk-estimator:hover label.sk-toggleable__label-arrow:before {color: black;}#sk-container-id-7 div.sk-toggleable__content {max-height: 0;max-width: 0;overflow: hidden;text-align: left;background-color: #f0f8ff;}#sk-container-id-7 div.sk-toggleable__content pre {margin: 0.2em;color: black;border-radius: 0.25em;background-color: #f0f8ff;}#sk-container-id-7 input.sk-toggleable__control:checked~div.sk-toggleable__content {max-height: 200px;max-width: 100%;overflow: auto;}#sk-container-id-7 input.sk-toggleable__control:checked~label.sk-toggleable__label-arrow:before {content: \"▾\";}#sk-container-id-7 div.sk-estimator input.sk-toggleable__control:checked~label.sk-toggleable__label {background-color: #d4ebff;}#sk-container-id-7 div.sk-label input.sk-toggleable__control:checked~label.sk-toggleable__label {background-color: #d4ebff;}#sk-container-id-7 input.sk-hidden--visually {border: 0;clip: rect(1px 1px 1px 1px);clip: rect(1px, 1px, 1px, 1px);height: 1px;margin: -1px;overflow: hidden;padding: 0;position: absolute;width: 1px;}#sk-container-id-7 div.sk-estimator {font-family: monospace;background-color: #f0f8ff;border: 1px dotted black;border-radius: 0.25em;box-sizing: border-box;margin-bottom: 0.5em;}#sk-container-id-7 div.sk-estimator:hover {background-color: #d4ebff;}#sk-container-id-7 div.sk-parallel-item::after {content: \"\";width: 100%;border-bottom: 1px solid gray;flex-grow: 1;}#sk-container-id-7 div.sk-label:hover label.sk-toggleable__label {background-color: #d4ebff;}#sk-container-id-7 div.sk-serial::before {content: \"\";position: absolute;border-left: 1px solid gray;box-sizing: border-box;top: 0;bottom: 0;left: 50%;z-index: 0;}#sk-container-id-7 div.sk-serial {display: flex;flex-direction: column;align-items: center;background-color: white;padding-right: 0.2em;padding-left: 0.2em;position: relative;}#sk-container-id-7 div.sk-item {position: relative;z-index: 1;}#sk-container-id-7 div.sk-parallel {display: flex;align-items: stretch;justify-content: center;background-color: white;position: relative;}#sk-container-id-7 div.sk-item::before, #sk-container-id-7 div.sk-parallel-item::before {content: \"\";position: absolute;border-left: 1px solid gray;box-sizing: border-box;top: 0;bottom: 0;left: 50%;z-index: -1;}#sk-container-id-7 div.sk-parallel-item {display: flex;flex-direction: column;z-index: 1;position: relative;background-color: white;}#sk-container-id-7 div.sk-parallel-item:first-child::after {align-self: flex-end;width: 50%;}#sk-container-id-7 div.sk-parallel-item:last-child::after {align-self: flex-start;width: 50%;}#sk-container-id-7 div.sk-parallel-item:only-child::after {width: 0;}#sk-container-id-7 div.sk-dashed-wrapped {border: 1px dashed gray;margin: 0 0.4em 0.5em 0.4em;box-sizing: border-box;padding-bottom: 0.4em;background-color: white;}#sk-container-id-7 div.sk-label label {font-family: monospace;font-weight: bold;display: inline-block;line-height: 1.2em;}#sk-container-id-7 div.sk-label-container {text-align: center;}#sk-container-id-7 div.sk-container {/* jupyter's `normalize.less` sets `[hidden] { display: none; }` but bootstrap.min.css set `[hidden] { display: none !important; }` so we also need the `!important` here to be able to override the default hidden behavior on the sphinx rendered scikit-learn.org. See: https://github.com/scikit-learn/scikit-learn/issues/21755 */display: inline-block !important;position: relative;}#sk-container-id-7 div.sk-text-repr-fallback {display: none;}</style><div id=\"sk-container-id-7\" class=\"sk-top-container\"><div class=\"sk-text-repr-fallback\"><pre>Pipeline(steps=[(&#x27;preprocessor&#x27;,\n",
              "                 ColumnTransformer(transformers=[(&#x27;num&#x27;,\n",
              "                                                  Pipeline(steps=[(&#x27;imputer&#x27;,\n",
              "                                                                   SimpleImputer(strategy=&#x27;median&#x27;)),\n",
              "                                                                  (&#x27;scaler&#x27;,\n",
              "                                                                   StandardScaler()),\n",
              "                                                                  (&#x27;pca&#x27;,\n",
              "                                                                   PCA(n_components=&#x27;mle&#x27;))]),\n",
              "                                                  &lt;sklearn.compose._column_transformer.make_column_selector object at 0x000001D1A59CACE0&gt;),\n",
              "                                                 (&#x27;cat&#x27;,\n",
              "                                                  Pipeline(steps=[(&#x27;imputer&#x27;,\n",
              "                                                                   SimpleImputer(fill_value=&#x27;0&#x27;,\n",
              "                                                                                 strategy=&#x27;constant&#x27;)),\n",
              "                                                                  (&#x27;one_hot_encoder&#x27;,\n",
              "                                                                   OneHotEncoder(drop=&#x27;if_binary&#x27;,\n",
              "                                                                                 dtype=&lt;class &#x27;int&#x27;&gt;,\n",
              "                                                                                 handle_unknown=&#x27;ignore&#x27;,\n",
              "                                                                                 sparse=False)),\n",
              "                                                                  (&#x27;pca&#x27;,\n",
              "                                                                   PCA(n_components=&#x27;mle&#x27;))]),\n",
              "                                                  &lt;sklearn.compose._column_transformer.make_column_selector object at 0x000001D1A59CAF50&gt;)])),\n",
              "                (&#x27;lassocv&#x27;, LassoCV(cv=5))])</pre><b>In a Jupyter environment, please rerun this cell to show the HTML representation or trust the notebook. <br />On GitHub, the HTML representation is unable to render, please try loading this page with nbviewer.org.</b></div><div class=\"sk-container\" hidden><div class=\"sk-item sk-dashed-wrapped\"><div class=\"sk-label-container\"><div class=\"sk-label sk-toggleable\"><input class=\"sk-toggleable__control sk-hidden--visually\" id=\"sk-estimator-id-65\" type=\"checkbox\" ><label for=\"sk-estimator-id-65\" class=\"sk-toggleable__label sk-toggleable__label-arrow\">Pipeline</label><div class=\"sk-toggleable__content\"><pre>Pipeline(steps=[(&#x27;preprocessor&#x27;,\n",
              "                 ColumnTransformer(transformers=[(&#x27;num&#x27;,\n",
              "                                                  Pipeline(steps=[(&#x27;imputer&#x27;,\n",
              "                                                                   SimpleImputer(strategy=&#x27;median&#x27;)),\n",
              "                                                                  (&#x27;scaler&#x27;,\n",
              "                                                                   StandardScaler()),\n",
              "                                                                  (&#x27;pca&#x27;,\n",
              "                                                                   PCA(n_components=&#x27;mle&#x27;))]),\n",
              "                                                  &lt;sklearn.compose._column_transformer.make_column_selector object at 0x000001D1A59CACE0&gt;),\n",
              "                                                 (&#x27;cat&#x27;,\n",
              "                                                  Pipeline(steps=[(&#x27;imputer&#x27;,\n",
              "                                                                   SimpleImputer(fill_value=&#x27;0&#x27;,\n",
              "                                                                                 strategy=&#x27;constant&#x27;)),\n",
              "                                                                  (&#x27;one_hot_encoder&#x27;,\n",
              "                                                                   OneHotEncoder(drop=&#x27;if_binary&#x27;,\n",
              "                                                                                 dtype=&lt;class &#x27;int&#x27;&gt;,\n",
              "                                                                                 handle_unknown=&#x27;ignore&#x27;,\n",
              "                                                                                 sparse=False)),\n",
              "                                                                  (&#x27;pca&#x27;,\n",
              "                                                                   PCA(n_components=&#x27;mle&#x27;))]),\n",
              "                                                  &lt;sklearn.compose._column_transformer.make_column_selector object at 0x000001D1A59CAF50&gt;)])),\n",
              "                (&#x27;lassocv&#x27;, LassoCV(cv=5))])</pre></div></div></div><div class=\"sk-serial\"><div class=\"sk-item sk-dashed-wrapped\"><div class=\"sk-label-container\"><div class=\"sk-label sk-toggleable\"><input class=\"sk-toggleable__control sk-hidden--visually\" id=\"sk-estimator-id-66\" type=\"checkbox\" ><label for=\"sk-estimator-id-66\" class=\"sk-toggleable__label sk-toggleable__label-arrow\">preprocessor: ColumnTransformer</label><div class=\"sk-toggleable__content\"><pre>ColumnTransformer(transformers=[(&#x27;num&#x27;,\n",
              "                                 Pipeline(steps=[(&#x27;imputer&#x27;,\n",
              "                                                  SimpleImputer(strategy=&#x27;median&#x27;)),\n",
              "                                                 (&#x27;scaler&#x27;, StandardScaler()),\n",
              "                                                 (&#x27;pca&#x27;,\n",
              "                                                  PCA(n_components=&#x27;mle&#x27;))]),\n",
              "                                 &lt;sklearn.compose._column_transformer.make_column_selector object at 0x000001D1A59CACE0&gt;),\n",
              "                                (&#x27;cat&#x27;,\n",
              "                                 Pipeline(steps=[(&#x27;imputer&#x27;,\n",
              "                                                  SimpleImputer(fill_value=&#x27;0&#x27;,\n",
              "                                                                strategy=&#x27;constant&#x27;)),\n",
              "                                                 (&#x27;one_hot_encoder&#x27;,\n",
              "                                                  OneHotEncoder(drop=&#x27;if_binary&#x27;,\n",
              "                                                                dtype=&lt;class &#x27;int&#x27;&gt;,\n",
              "                                                                handle_unknown=&#x27;ignore&#x27;,\n",
              "                                                                sparse=False)),\n",
              "                                                 (&#x27;pca&#x27;,\n",
              "                                                  PCA(n_components=&#x27;mle&#x27;))]),\n",
              "                                 &lt;sklearn.compose._column_transformer.make_column_selector object at 0x000001D1A59CAF50&gt;)])</pre></div></div></div><div class=\"sk-parallel\"><div class=\"sk-parallel-item\"><div class=\"sk-item\"><div class=\"sk-label-container\"><div class=\"sk-label sk-toggleable\"><input class=\"sk-toggleable__control sk-hidden--visually\" id=\"sk-estimator-id-67\" type=\"checkbox\" ><label for=\"sk-estimator-id-67\" class=\"sk-toggleable__label sk-toggleable__label-arrow\">num</label><div class=\"sk-toggleable__content\"><pre>&lt;sklearn.compose._column_transformer.make_column_selector object at 0x000001D1A59CACE0&gt;</pre></div></div></div><div class=\"sk-serial\"><div class=\"sk-item\"><div class=\"sk-serial\"><div class=\"sk-item\"><div class=\"sk-estimator sk-toggleable\"><input class=\"sk-toggleable__control sk-hidden--visually\" id=\"sk-estimator-id-68\" type=\"checkbox\" ><label for=\"sk-estimator-id-68\" class=\"sk-toggleable__label sk-toggleable__label-arrow\">SimpleImputer</label><div class=\"sk-toggleable__content\"><pre>SimpleImputer(strategy=&#x27;median&#x27;)</pre></div></div></div><div class=\"sk-item\"><div class=\"sk-estimator sk-toggleable\"><input class=\"sk-toggleable__control sk-hidden--visually\" id=\"sk-estimator-id-69\" type=\"checkbox\" ><label for=\"sk-estimator-id-69\" class=\"sk-toggleable__label sk-toggleable__label-arrow\">StandardScaler</label><div class=\"sk-toggleable__content\"><pre>StandardScaler()</pre></div></div></div><div class=\"sk-item\"><div class=\"sk-estimator sk-toggleable\"><input class=\"sk-toggleable__control sk-hidden--visually\" id=\"sk-estimator-id-70\" type=\"checkbox\" ><label for=\"sk-estimator-id-70\" class=\"sk-toggleable__label sk-toggleable__label-arrow\">PCA</label><div class=\"sk-toggleable__content\"><pre>PCA(n_components=&#x27;mle&#x27;)</pre></div></div></div></div></div></div></div></div><div class=\"sk-parallel-item\"><div class=\"sk-item\"><div class=\"sk-label-container\"><div class=\"sk-label sk-toggleable\"><input class=\"sk-toggleable__control sk-hidden--visually\" id=\"sk-estimator-id-71\" type=\"checkbox\" ><label for=\"sk-estimator-id-71\" class=\"sk-toggleable__label sk-toggleable__label-arrow\">cat</label><div class=\"sk-toggleable__content\"><pre>&lt;sklearn.compose._column_transformer.make_column_selector object at 0x000001D1A59CAF50&gt;</pre></div></div></div><div class=\"sk-serial\"><div class=\"sk-item\"><div class=\"sk-serial\"><div class=\"sk-item\"><div class=\"sk-estimator sk-toggleable\"><input class=\"sk-toggleable__control sk-hidden--visually\" id=\"sk-estimator-id-72\" type=\"checkbox\" ><label for=\"sk-estimator-id-72\" class=\"sk-toggleable__label sk-toggleable__label-arrow\">SimpleImputer</label><div class=\"sk-toggleable__content\"><pre>SimpleImputer(fill_value=&#x27;0&#x27;, strategy=&#x27;constant&#x27;)</pre></div></div></div><div class=\"sk-item\"><div class=\"sk-estimator sk-toggleable\"><input class=\"sk-toggleable__control sk-hidden--visually\" id=\"sk-estimator-id-73\" type=\"checkbox\" ><label for=\"sk-estimator-id-73\" class=\"sk-toggleable__label sk-toggleable__label-arrow\">OneHotEncoder</label><div class=\"sk-toggleable__content\"><pre>OneHotEncoder(drop=&#x27;if_binary&#x27;, dtype=&lt;class &#x27;int&#x27;&gt;, handle_unknown=&#x27;ignore&#x27;,\n",
              "              sparse=False)</pre></div></div></div><div class=\"sk-item\"><div class=\"sk-estimator sk-toggleable\"><input class=\"sk-toggleable__control sk-hidden--visually\" id=\"sk-estimator-id-74\" type=\"checkbox\" ><label for=\"sk-estimator-id-74\" class=\"sk-toggleable__label sk-toggleable__label-arrow\">PCA</label><div class=\"sk-toggleable__content\"><pre>PCA(n_components=&#x27;mle&#x27;)</pre></div></div></div></div></div></div></div></div></div></div><div class=\"sk-item\"><div class=\"sk-estimator sk-toggleable\"><input class=\"sk-toggleable__control sk-hidden--visually\" id=\"sk-estimator-id-75\" type=\"checkbox\" ><label for=\"sk-estimator-id-75\" class=\"sk-toggleable__label sk-toggleable__label-arrow\">LassoCV</label><div class=\"sk-toggleable__content\"><pre>LassoCV(cv=5)</pre></div></div></div></div></div></div></div>"
            ],
            "text/plain": [
              "Pipeline(steps=[('preprocessor',\n",
              "                 ColumnTransformer(transformers=[('num',\n",
              "                                                  Pipeline(steps=[('imputer',\n",
              "                                                                   SimpleImputer(strategy='median')),\n",
              "                                                                  ('scaler',\n",
              "                                                                   StandardScaler()),\n",
              "                                                                  ('pca',\n",
              "                                                                   PCA(n_components='mle'))]),\n",
              "                                                  <sklearn.compose._column_transformer.make_column_selector object at 0x000001D1A59CACE0>),\n",
              "                                                 ('cat',\n",
              "                                                  Pipeline(steps=[('imputer',\n",
              "                                                                   SimpleImputer(fill_value='0',\n",
              "                                                                                 strategy='constant')),\n",
              "                                                                  ('one_hot_encoder',\n",
              "                                                                   OneHotEncoder(drop='if_binary',\n",
              "                                                                                 dtype=<class 'int'>,\n",
              "                                                                                 handle_unknown='ignore',\n",
              "                                                                                 sparse=False)),\n",
              "                                                                  ('pca',\n",
              "                                                                   PCA(n_components='mle'))]),\n",
              "                                                  <sklearn.compose._column_transformer.make_column_selector object at 0x000001D1A59CAF50>)])),\n",
              "                ('lassocv', LassoCV(cv=5))])"
            ]
          },
          "execution_count": 24,
          "metadata": {},
          "output_type": "execute_result"
        }
      ],
      "source": [
        "col_num = make_column_selector(dtype_include=np.number)\n",
        "col_tex = make_column_selector(dtype_include=object)\n",
        "\n",
        "numeric_transformer_pca = Pipeline(\n",
        "  steps=[\n",
        "          (\"imputer\", SimpleImputer(strategy=\"median\")),\n",
        "          (\"scaler\", StandardScaler()),\n",
        "          (\"pca\", PCA(n_components='mle'))\n",
        "        ]\n",
        ")\n",
        "\n",
        "categorical_transformer_pca = Pipeline(\n",
        "  steps=[\n",
        "          (\"imputer\", SimpleImputer(strategy=\"constant\", fill_value=\"0\")),\n",
        "          (\"one_hot_encoder\", OneHotEncoder(dtype=int, handle_unknown='ignore', drop='if_binary', sparse=False)),\n",
        "          (\"pca\", PCA(n_components='mle'))\n",
        "        ]\n",
        ")\n",
        "\n",
        "preprocessor_pca = ColumnTransformer(\n",
        "  transformers=[\n",
        "    (\"num\", numeric_transformer_pca, col_num),\n",
        "    (\"cat\", categorical_transformer_pca, col_tex)\n",
        "  ]\n",
        ")\n",
        "\n",
        "modelLassoCV_pca = Pipeline(\n",
        "  steps=[\n",
        "    (\"preprocessor\", preprocessor_pca), \n",
        "    (\"lassocv\", LassoCV(cv=5))\n",
        "  ]\n",
        ")\n",
        "\n",
        "modelLassoCV_pca"
      ]
    },
    {
      "cell_type": "code",
      "execution_count": 32,
      "metadata": {},
      "outputs": [],
      "source": [
        "modelLassoCV_pca.fit(X_train, y_train)\n",
        "y_pred = modelLassoCV_pca.predict(X_test)"
      ]
    },
    {
      "cell_type": "code",
      "execution_count": 33,
      "metadata": {},
      "outputs": [
        {
          "name": "stdout",
          "output_type": "stream",
          "text": [
            "\n",
            "    Número de Features Original: 250\n",
            "    Número de Features selecionadas pelo lassocv: 108\n",
            "    Features Selecionadas:\n",
            "    ['pca0' 'pca1' 'pca2' 'pca3' 'pca4' 'pca5' 'pca6' 'pca7' 'pca8' 'pca9'\n",
            " 'pca10' 'pca11' 'pca14' 'pca15' 'pca16' 'pca17' 'pca18' 'pca19' 'pca20'\n",
            " 'pca22' 'pca23' 'pca24' 'pca25' 'pca26' 'pca27' 'pca28' 'pca29' 'pca31'\n",
            " 'pca32' 'pca33' 'pca34' 'pca0' 'pca1' 'pca2' 'pca3' 'pca4' 'pca5' 'pca6'\n",
            " 'pca7' 'pca8' 'pca9' 'pca10' 'pca12' 'pca13' 'pca14' 'pca15' 'pca16'\n",
            " 'pca17' 'pca18' 'pca19' 'pca20' 'pca22' 'pca23' 'pca24' 'pca25' 'pca26'\n",
            " 'pca27' 'pca29' 'pca32' 'pca33' 'pca34' 'pca35' 'pca36' 'pca39' 'pca40'\n",
            " 'pca41' 'pca42' 'pca43' 'pca44' 'pca45' 'pca47' 'pca48' 'pca51' 'pca52'\n",
            " 'pca53' 'pca55' 'pca56' 'pca57' 'pca59' 'pca60' 'pca61' 'pca62' 'pca64'\n",
            " 'pca67' 'pca68' 'pca69' 'pca71' 'pca75' 'pca76' 'pca78' 'pca82' 'pca85'\n",
            " 'pca86' 'pca88' 'pca89' 'pca94' 'pca96' 'pca98' 'pca99' 'pca102' 'pca104'\n",
            " 'pca106' 'pca107' 'pca118' 'pca131' 'pca180' 'pca182' 'pca184']\n",
            "    \n"
          ]
        }
      ],
      "source": [
        "print(get_features(model=modelLassoCV_pca, model_name='lassocv', ispca= True))"
      ]
    },
    {
      "cell_type": "code",
      "execution_count": 34,
      "metadata": {},
      "outputs": [
        {
          "name": "stdout",
          "output_type": "stream",
          "text": [
            "Pontuação do Modelo: \n",
            "\n",
            "Mean Absolute Error (MAE) do Modelo Pipeline LassoCV com PCA: 18956.904\n",
            "\n",
            "Mean Squared Error (MSE) do Modelo Pipeline LassoCV com PCA: 978705610.2881\n",
            "\n",
            "Root Mean Squared Error (RMSE) do Modelo Pipeline LassoCV com PCA: 31284.2710\n",
            "\n",
            "R-squared do Modelo Pipeline LassoCV com PCA: 0.872\n",
            "\n"
          ]
        }
      ],
      "source": [
        "print(f'Pontuação do Modelo: {print_metrics(model=modelLassoCV_pca, model_name=\"Pipeline LassoCV com PCA\", X_test=X_test, y_test=y_test, y_pred=y_pred)}')"
      ]
    },
    {
      "cell_type": "code",
      "execution_count": 31,
      "metadata": {},
      "outputs": [
        {
          "data": {
            "text/html": [
              "<style>#sk-container-id-8 {color: black;background-color: white;}#sk-container-id-8 pre{padding: 0;}#sk-container-id-8 div.sk-toggleable {background-color: white;}#sk-container-id-8 label.sk-toggleable__label {cursor: pointer;display: block;width: 100%;margin-bottom: 0;padding: 0.3em;box-sizing: border-box;text-align: center;}#sk-container-id-8 label.sk-toggleable__label-arrow:before {content: \"▸\";float: left;margin-right: 0.25em;color: #696969;}#sk-container-id-8 label.sk-toggleable__label-arrow:hover:before {color: black;}#sk-container-id-8 div.sk-estimator:hover label.sk-toggleable__label-arrow:before {color: black;}#sk-container-id-8 div.sk-toggleable__content {max-height: 0;max-width: 0;overflow: hidden;text-align: left;background-color: #f0f8ff;}#sk-container-id-8 div.sk-toggleable__content pre {margin: 0.2em;color: black;border-radius: 0.25em;background-color: #f0f8ff;}#sk-container-id-8 input.sk-toggleable__control:checked~div.sk-toggleable__content {max-height: 200px;max-width: 100%;overflow: auto;}#sk-container-id-8 input.sk-toggleable__control:checked~label.sk-toggleable__label-arrow:before {content: \"▾\";}#sk-container-id-8 div.sk-estimator input.sk-toggleable__control:checked~label.sk-toggleable__label {background-color: #d4ebff;}#sk-container-id-8 div.sk-label input.sk-toggleable__control:checked~label.sk-toggleable__label {background-color: #d4ebff;}#sk-container-id-8 input.sk-hidden--visually {border: 0;clip: rect(1px 1px 1px 1px);clip: rect(1px, 1px, 1px, 1px);height: 1px;margin: -1px;overflow: hidden;padding: 0;position: absolute;width: 1px;}#sk-container-id-8 div.sk-estimator {font-family: monospace;background-color: #f0f8ff;border: 1px dotted black;border-radius: 0.25em;box-sizing: border-box;margin-bottom: 0.5em;}#sk-container-id-8 div.sk-estimator:hover {background-color: #d4ebff;}#sk-container-id-8 div.sk-parallel-item::after {content: \"\";width: 100%;border-bottom: 1px solid gray;flex-grow: 1;}#sk-container-id-8 div.sk-label:hover label.sk-toggleable__label {background-color: #d4ebff;}#sk-container-id-8 div.sk-serial::before {content: \"\";position: absolute;border-left: 1px solid gray;box-sizing: border-box;top: 0;bottom: 0;left: 50%;z-index: 0;}#sk-container-id-8 div.sk-serial {display: flex;flex-direction: column;align-items: center;background-color: white;padding-right: 0.2em;padding-left: 0.2em;position: relative;}#sk-container-id-8 div.sk-item {position: relative;z-index: 1;}#sk-container-id-8 div.sk-parallel {display: flex;align-items: stretch;justify-content: center;background-color: white;position: relative;}#sk-container-id-8 div.sk-item::before, #sk-container-id-8 div.sk-parallel-item::before {content: \"\";position: absolute;border-left: 1px solid gray;box-sizing: border-box;top: 0;bottom: 0;left: 50%;z-index: -1;}#sk-container-id-8 div.sk-parallel-item {display: flex;flex-direction: column;z-index: 1;position: relative;background-color: white;}#sk-container-id-8 div.sk-parallel-item:first-child::after {align-self: flex-end;width: 50%;}#sk-container-id-8 div.sk-parallel-item:last-child::after {align-self: flex-start;width: 50%;}#sk-container-id-8 div.sk-parallel-item:only-child::after {width: 0;}#sk-container-id-8 div.sk-dashed-wrapped {border: 1px dashed gray;margin: 0 0.4em 0.5em 0.4em;box-sizing: border-box;padding-bottom: 0.4em;background-color: white;}#sk-container-id-8 div.sk-label label {font-family: monospace;font-weight: bold;display: inline-block;line-height: 1.2em;}#sk-container-id-8 div.sk-label-container {text-align: center;}#sk-container-id-8 div.sk-container {/* jupyter's `normalize.less` sets `[hidden] { display: none; }` but bootstrap.min.css set `[hidden] { display: none !important; }` so we also need the `!important` here to be able to override the default hidden behavior on the sphinx rendered scikit-learn.org. See: https://github.com/scikit-learn/scikit-learn/issues/21755 */display: inline-block !important;position: relative;}#sk-container-id-8 div.sk-text-repr-fallback {display: none;}</style><div id=\"sk-container-id-8\" class=\"sk-top-container\"><div class=\"sk-text-repr-fallback\"><pre>Pipeline(steps=[(&#x27;preprocessor&#x27;,\n",
              "                 ColumnTransformer(transformers=[(&#x27;num&#x27;,\n",
              "                                                  Pipeline(steps=[(&#x27;imputer&#x27;,\n",
              "                                                                   SimpleImputer(strategy=&#x27;median&#x27;)),\n",
              "                                                                  (&#x27;scaler&#x27;,\n",
              "                                                                   StandardScaler()),\n",
              "                                                                  (&#x27;pca&#x27;,\n",
              "                                                                   PCA(n_components=&#x27;mle&#x27;))]),\n",
              "                                                  &lt;sklearn.compose._column_transformer.make_column_selector object at 0x000001D1A59CACE0&gt;),\n",
              "                                                 (&#x27;cat&#x27;,\n",
              "                                                  Pipeline(steps=[(&#x27;imputer&#x27;,\n",
              "                                                                   SimpleImputer(fill_value=&#x27;0&#x27;,\n",
              "                                                                                 strategy=&#x27;constant&#x27;)),\n",
              "                                                                  (&#x27;one_hot_encoder&#x27;,\n",
              "                                                                   OneHotEncoder(drop=&#x27;if_binary&#x27;,\n",
              "                                                                                 dtype=&lt;class &#x27;int&#x27;&gt;,\n",
              "                                                                                 handle_unknown=&#x27;ignore&#x27;,\n",
              "                                                                                 sparse=False)),\n",
              "                                                                  (&#x27;pca&#x27;,\n",
              "                                                                   PCA(n_components=&#x27;mle&#x27;))]),\n",
              "                                                  &lt;sklearn.compose._column_transformer.make_column_selector object at 0x000001D1A59CAF50&gt;)])),\n",
              "                (&#x27;ridgecv&#x27;, RidgeCV(cv=5))])</pre><b>In a Jupyter environment, please rerun this cell to show the HTML representation or trust the notebook. <br />On GitHub, the HTML representation is unable to render, please try loading this page with nbviewer.org.</b></div><div class=\"sk-container\" hidden><div class=\"sk-item sk-dashed-wrapped\"><div class=\"sk-label-container\"><div class=\"sk-label sk-toggleable\"><input class=\"sk-toggleable__control sk-hidden--visually\" id=\"sk-estimator-id-76\" type=\"checkbox\" ><label for=\"sk-estimator-id-76\" class=\"sk-toggleable__label sk-toggleable__label-arrow\">Pipeline</label><div class=\"sk-toggleable__content\"><pre>Pipeline(steps=[(&#x27;preprocessor&#x27;,\n",
              "                 ColumnTransformer(transformers=[(&#x27;num&#x27;,\n",
              "                                                  Pipeline(steps=[(&#x27;imputer&#x27;,\n",
              "                                                                   SimpleImputer(strategy=&#x27;median&#x27;)),\n",
              "                                                                  (&#x27;scaler&#x27;,\n",
              "                                                                   StandardScaler()),\n",
              "                                                                  (&#x27;pca&#x27;,\n",
              "                                                                   PCA(n_components=&#x27;mle&#x27;))]),\n",
              "                                                  &lt;sklearn.compose._column_transformer.make_column_selector object at 0x000001D1A59CACE0&gt;),\n",
              "                                                 (&#x27;cat&#x27;,\n",
              "                                                  Pipeline(steps=[(&#x27;imputer&#x27;,\n",
              "                                                                   SimpleImputer(fill_value=&#x27;0&#x27;,\n",
              "                                                                                 strategy=&#x27;constant&#x27;)),\n",
              "                                                                  (&#x27;one_hot_encoder&#x27;,\n",
              "                                                                   OneHotEncoder(drop=&#x27;if_binary&#x27;,\n",
              "                                                                                 dtype=&lt;class &#x27;int&#x27;&gt;,\n",
              "                                                                                 handle_unknown=&#x27;ignore&#x27;,\n",
              "                                                                                 sparse=False)),\n",
              "                                                                  (&#x27;pca&#x27;,\n",
              "                                                                   PCA(n_components=&#x27;mle&#x27;))]),\n",
              "                                                  &lt;sklearn.compose._column_transformer.make_column_selector object at 0x000001D1A59CAF50&gt;)])),\n",
              "                (&#x27;ridgecv&#x27;, RidgeCV(cv=5))])</pre></div></div></div><div class=\"sk-serial\"><div class=\"sk-item sk-dashed-wrapped\"><div class=\"sk-label-container\"><div class=\"sk-label sk-toggleable\"><input class=\"sk-toggleable__control sk-hidden--visually\" id=\"sk-estimator-id-77\" type=\"checkbox\" ><label for=\"sk-estimator-id-77\" class=\"sk-toggleable__label sk-toggleable__label-arrow\">preprocessor: ColumnTransformer</label><div class=\"sk-toggleable__content\"><pre>ColumnTransformer(transformers=[(&#x27;num&#x27;,\n",
              "                                 Pipeline(steps=[(&#x27;imputer&#x27;,\n",
              "                                                  SimpleImputer(strategy=&#x27;median&#x27;)),\n",
              "                                                 (&#x27;scaler&#x27;, StandardScaler()),\n",
              "                                                 (&#x27;pca&#x27;,\n",
              "                                                  PCA(n_components=&#x27;mle&#x27;))]),\n",
              "                                 &lt;sklearn.compose._column_transformer.make_column_selector object at 0x000001D1A59CACE0&gt;),\n",
              "                                (&#x27;cat&#x27;,\n",
              "                                 Pipeline(steps=[(&#x27;imputer&#x27;,\n",
              "                                                  SimpleImputer(fill_value=&#x27;0&#x27;,\n",
              "                                                                strategy=&#x27;constant&#x27;)),\n",
              "                                                 (&#x27;one_hot_encoder&#x27;,\n",
              "                                                  OneHotEncoder(drop=&#x27;if_binary&#x27;,\n",
              "                                                                dtype=&lt;class &#x27;int&#x27;&gt;,\n",
              "                                                                handle_unknown=&#x27;ignore&#x27;,\n",
              "                                                                sparse=False)),\n",
              "                                                 (&#x27;pca&#x27;,\n",
              "                                                  PCA(n_components=&#x27;mle&#x27;))]),\n",
              "                                 &lt;sklearn.compose._column_transformer.make_column_selector object at 0x000001D1A59CAF50&gt;)])</pre></div></div></div><div class=\"sk-parallel\"><div class=\"sk-parallel-item\"><div class=\"sk-item\"><div class=\"sk-label-container\"><div class=\"sk-label sk-toggleable\"><input class=\"sk-toggleable__control sk-hidden--visually\" id=\"sk-estimator-id-78\" type=\"checkbox\" ><label for=\"sk-estimator-id-78\" class=\"sk-toggleable__label sk-toggleable__label-arrow\">num</label><div class=\"sk-toggleable__content\"><pre>&lt;sklearn.compose._column_transformer.make_column_selector object at 0x000001D1A59CACE0&gt;</pre></div></div></div><div class=\"sk-serial\"><div class=\"sk-item\"><div class=\"sk-serial\"><div class=\"sk-item\"><div class=\"sk-estimator sk-toggleable\"><input class=\"sk-toggleable__control sk-hidden--visually\" id=\"sk-estimator-id-79\" type=\"checkbox\" ><label for=\"sk-estimator-id-79\" class=\"sk-toggleable__label sk-toggleable__label-arrow\">SimpleImputer</label><div class=\"sk-toggleable__content\"><pre>SimpleImputer(strategy=&#x27;median&#x27;)</pre></div></div></div><div class=\"sk-item\"><div class=\"sk-estimator sk-toggleable\"><input class=\"sk-toggleable__control sk-hidden--visually\" id=\"sk-estimator-id-80\" type=\"checkbox\" ><label for=\"sk-estimator-id-80\" class=\"sk-toggleable__label sk-toggleable__label-arrow\">StandardScaler</label><div class=\"sk-toggleable__content\"><pre>StandardScaler()</pre></div></div></div><div class=\"sk-item\"><div class=\"sk-estimator sk-toggleable\"><input class=\"sk-toggleable__control sk-hidden--visually\" id=\"sk-estimator-id-81\" type=\"checkbox\" ><label for=\"sk-estimator-id-81\" class=\"sk-toggleable__label sk-toggleable__label-arrow\">PCA</label><div class=\"sk-toggleable__content\"><pre>PCA(n_components=&#x27;mle&#x27;)</pre></div></div></div></div></div></div></div></div><div class=\"sk-parallel-item\"><div class=\"sk-item\"><div class=\"sk-label-container\"><div class=\"sk-label sk-toggleable\"><input class=\"sk-toggleable__control sk-hidden--visually\" id=\"sk-estimator-id-82\" type=\"checkbox\" ><label for=\"sk-estimator-id-82\" class=\"sk-toggleable__label sk-toggleable__label-arrow\">cat</label><div class=\"sk-toggleable__content\"><pre>&lt;sklearn.compose._column_transformer.make_column_selector object at 0x000001D1A59CAF50&gt;</pre></div></div></div><div class=\"sk-serial\"><div class=\"sk-item\"><div class=\"sk-serial\"><div class=\"sk-item\"><div class=\"sk-estimator sk-toggleable\"><input class=\"sk-toggleable__control sk-hidden--visually\" id=\"sk-estimator-id-83\" type=\"checkbox\" ><label for=\"sk-estimator-id-83\" class=\"sk-toggleable__label sk-toggleable__label-arrow\">SimpleImputer</label><div class=\"sk-toggleable__content\"><pre>SimpleImputer(fill_value=&#x27;0&#x27;, strategy=&#x27;constant&#x27;)</pre></div></div></div><div class=\"sk-item\"><div class=\"sk-estimator sk-toggleable\"><input class=\"sk-toggleable__control sk-hidden--visually\" id=\"sk-estimator-id-84\" type=\"checkbox\" ><label for=\"sk-estimator-id-84\" class=\"sk-toggleable__label sk-toggleable__label-arrow\">OneHotEncoder</label><div class=\"sk-toggleable__content\"><pre>OneHotEncoder(drop=&#x27;if_binary&#x27;, dtype=&lt;class &#x27;int&#x27;&gt;, handle_unknown=&#x27;ignore&#x27;,\n",
              "              sparse=False)</pre></div></div></div><div class=\"sk-item\"><div class=\"sk-estimator sk-toggleable\"><input class=\"sk-toggleable__control sk-hidden--visually\" id=\"sk-estimator-id-85\" type=\"checkbox\" ><label for=\"sk-estimator-id-85\" class=\"sk-toggleable__label sk-toggleable__label-arrow\">PCA</label><div class=\"sk-toggleable__content\"><pre>PCA(n_components=&#x27;mle&#x27;)</pre></div></div></div></div></div></div></div></div></div></div><div class=\"sk-item\"><div class=\"sk-estimator sk-toggleable\"><input class=\"sk-toggleable__control sk-hidden--visually\" id=\"sk-estimator-id-86\" type=\"checkbox\" ><label for=\"sk-estimator-id-86\" class=\"sk-toggleable__label sk-toggleable__label-arrow\">RidgeCV</label><div class=\"sk-toggleable__content\"><pre>RidgeCV(cv=5)</pre></div></div></div></div></div></div></div>"
            ],
            "text/plain": [
              "Pipeline(steps=[('preprocessor',\n",
              "                 ColumnTransformer(transformers=[('num',\n",
              "                                                  Pipeline(steps=[('imputer',\n",
              "                                                                   SimpleImputer(strategy='median')),\n",
              "                                                                  ('scaler',\n",
              "                                                                   StandardScaler()),\n",
              "                                                                  ('pca',\n",
              "                                                                   PCA(n_components='mle'))]),\n",
              "                                                  <sklearn.compose._column_transformer.make_column_selector object at 0x000001D1A59CACE0>),\n",
              "                                                 ('cat',\n",
              "                                                  Pipeline(steps=[('imputer',\n",
              "                                                                   SimpleImputer(fill_value='0',\n",
              "                                                                                 strategy='constant')),\n",
              "                                                                  ('one_hot_encoder',\n",
              "                                                                   OneHotEncoder(drop='if_binary',\n",
              "                                                                                 dtype=<class 'int'>,\n",
              "                                                                                 handle_unknown='ignore',\n",
              "                                                                                 sparse=False)),\n",
              "                                                                  ('pca',\n",
              "                                                                   PCA(n_components='mle'))]),\n",
              "                                                  <sklearn.compose._column_transformer.make_column_selector object at 0x000001D1A59CAF50>)])),\n",
              "                ('ridgecv', RidgeCV(cv=5))])"
            ]
          },
          "execution_count": 31,
          "metadata": {},
          "output_type": "execute_result"
        }
      ],
      "source": [
        "#Testando pipeline utilizando Ridge e pca\n",
        "\n",
        "modelRidgeCV_pca = Pipeline(\n",
        "  steps=[\n",
        "    (\"preprocessor\", preprocessor_pca),\n",
        "    (\"ridgecv\", RidgeCV(cv=5))\n",
        "  ]\n",
        ")\n",
        "\n",
        "modelRidgeCV_pca"
      ]
    },
    {
      "cell_type": "code",
      "execution_count": 35,
      "metadata": {},
      "outputs": [],
      "source": [
        "modelRidgeCV_pca.fit(X_train, y_train)\n",
        "y_pred = modelRidgeCV_pca.predict(X_test)"
      ]
    },
    {
      "cell_type": "code",
      "execution_count": 36,
      "metadata": {},
      "outputs": [
        {
          "name": "stdout",
          "output_type": "stream",
          "text": [
            "\n",
            "    Atenção: O modelo passado não é Lasso, logo todas as variáveis passadas terão sido selecionadas.\n",
            "    Número de Features Original: 250\n",
            "    Número de Features selecionadas pelo ridgecv: 250\n",
            "    Features Selecionadas:\n",
            "    ['pca0' 'pca1' 'pca2' 'pca3' 'pca4' 'pca5' 'pca6' 'pca7' 'pca8' 'pca9'\n",
            " 'pca10' 'pca11' 'pca12' 'pca13' 'pca14' 'pca15' 'pca16' 'pca17' 'pca18'\n",
            " 'pca19' 'pca20' 'pca21' 'pca22' 'pca23' 'pca24' 'pca25' 'pca26' 'pca27'\n",
            " 'pca28' 'pca29' 'pca30' 'pca31' 'pca32' 'pca33' 'pca34' 'pca0' 'pca1'\n",
            " 'pca2' 'pca3' 'pca4' 'pca5' 'pca6' 'pca7' 'pca8' 'pca9' 'pca10' 'pca11'\n",
            " 'pca12' 'pca13' 'pca14' 'pca15' 'pca16' 'pca17' 'pca18' 'pca19' 'pca20'\n",
            " 'pca21' 'pca22' 'pca23' 'pca24' 'pca25' 'pca26' 'pca27' 'pca28' 'pca29'\n",
            " 'pca30' 'pca31' 'pca32' 'pca33' 'pca34' 'pca35' 'pca36' 'pca37' 'pca38'\n",
            " 'pca39' 'pca40' 'pca41' 'pca42' 'pca43' 'pca44' 'pca45' 'pca46' 'pca47'\n",
            " 'pca48' 'pca49' 'pca50' 'pca51' 'pca52' 'pca53' 'pca54' 'pca55' 'pca56'\n",
            " 'pca57' 'pca58' 'pca59' 'pca60' 'pca61' 'pca62' 'pca63' 'pca64' 'pca65'\n",
            " 'pca66' 'pca67' 'pca68' 'pca69' 'pca70' 'pca71' 'pca72' 'pca73' 'pca74'\n",
            " 'pca75' 'pca76' 'pca77' 'pca78' 'pca79' 'pca80' 'pca81' 'pca82' 'pca83'\n",
            " 'pca84' 'pca85' 'pca86' 'pca87' 'pca88' 'pca89' 'pca90' 'pca91' 'pca92'\n",
            " 'pca93' 'pca94' 'pca95' 'pca96' 'pca97' 'pca98' 'pca99' 'pca100' 'pca101'\n",
            " 'pca102' 'pca103' 'pca104' 'pca105' 'pca106' 'pca107' 'pca108' 'pca109'\n",
            " 'pca110' 'pca111' 'pca112' 'pca113' 'pca114' 'pca115' 'pca116' 'pca117'\n",
            " 'pca118' 'pca119' 'pca120' 'pca121' 'pca122' 'pca123' 'pca124' 'pca125'\n",
            " 'pca126' 'pca127' 'pca128' 'pca129' 'pca130' 'pca131' 'pca132' 'pca133'\n",
            " 'pca134' 'pca135' 'pca136' 'pca137' 'pca138' 'pca139' 'pca140' 'pca141'\n",
            " 'pca142' 'pca143' 'pca144' 'pca145' 'pca146' 'pca147' 'pca148' 'pca149'\n",
            " 'pca150' 'pca151' 'pca152' 'pca153' 'pca154' 'pca155' 'pca156' 'pca157'\n",
            " 'pca158' 'pca159' 'pca160' 'pca161' 'pca162' 'pca163' 'pca164' 'pca165'\n",
            " 'pca166' 'pca167' 'pca168' 'pca169' 'pca170' 'pca171' 'pca172' 'pca173'\n",
            " 'pca174' 'pca175' 'pca176' 'pca177' 'pca178' 'pca179' 'pca180' 'pca181'\n",
            " 'pca182' 'pca183' 'pca184' 'pca185' 'pca186' 'pca187' 'pca188' 'pca189'\n",
            " 'pca190' 'pca191' 'pca192' 'pca193' 'pca194' 'pca195' 'pca196' 'pca197'\n",
            " 'pca198' 'pca199' 'pca200' 'pca201' 'pca202' 'pca203' 'pca204' 'pca205'\n",
            " 'pca206' 'pca207' 'pca208' 'pca209' 'pca210' 'pca211' 'pca212' 'pca213'\n",
            " 'pca214']\n",
            "    \n"
          ]
        }
      ],
      "source": [
        "print(get_features(model=modelRidgeCV_pca, model_name='ridgecv', ispca= True))"
      ]
    },
    {
      "cell_type": "code",
      "execution_count": 37,
      "metadata": {},
      "outputs": [
        {
          "name": "stdout",
          "output_type": "stream",
          "text": [
            "Pontuação do Modelo: \n",
            "\n",
            "Mean Absolute Error (MAE) do Modelo Pipeline RidgeCV com PCA: 19171.747\n",
            "\n",
            "Mean Squared Error (MSE) do Modelo Pipeline RidgeCV com PCA: 934734415.2342\n",
            "\n",
            "Root Mean Squared Error (RMSE) do Modelo Pipeline RidgeCV com PCA: 30573.4266\n",
            "\n",
            "R-squared do Modelo Pipeline RidgeCV com PCA: 0.878\n",
            "\n"
          ]
        }
      ],
      "source": [
        "print(f'Pontuação do Modelo: {print_metrics(model=modelRidgeCV_pca, model_name=\"Pipeline RidgeCV com PCA\", X_test=X_test, y_test=y_test, y_pred=y_pred)}')"
      ]
    },
    {
      "cell_type": "markdown",
      "metadata": {
        "id": "La13Y0krKz1V"
      },
      "source": [
        "#6. Decisão do modelo (1.0 ponto)\n",
        "Dada toda a análise realizada nos pontos anteriores, qual modelo melhor se adequa a este problema? E por quê?"
      ]
    },
    {
      "cell_type": "markdown",
      "metadata": {
        "id": "AsYab3UNK3HA"
      },
      "source": [
        "#7. Modelagem (1.0 ponto)\n",
        "Divida os dados em teste e treino, construa o seu modelo e teste alterar os parâmetros utilizados por ele."
      ]
    },
    {
      "cell_type": "markdown",
      "metadata": {
        "id": "rAOXh7bXK74d"
      },
      "source": [
        "#8. Histórico (1.0 pontos)\n",
        "Preencha a tabela abaixo com cada teste realizado com seu modelo (coloque vazio se a métrica não se aplica). Não se preocupe caso voce mude de ideia sobre qual modelo testar, mas não deixe de testá-lo exaustivamente e, caso precise, retorne para o passo de criação e seleção de características."
      ]
    },
    {
      "cell_type": "markdown",
      "metadata": {
        "id": "3eAY6W7pK-yd"
      },
      "source": [
        "#9. Resultado (2.0 pontos)\n",
        "Reúna os seus achados, os valores das métricas do seu melhor modelo obtido e o melhor conjunto de variáveis. Escreva abaixo um relatório que seria enviado para uma diretoria de uma empresa sobre seu trabalho."
      ]
    },
    {
      "cell_type": "code",
      "execution_count": null,
      "metadata": {
        "id": "DkO9l_CpE-Pc"
      },
      "outputs": [],
      "source": []
    }
  ],
  "metadata": {
    "colab": {
      "authorship_tag": "ABX9TyNCcFcxJ7ogl2JVn8p2c0ll",
      "include_colab_link": true,
      "name": "Mod3 - Projeto 02.ipynb",
      "provenance": []
    },
    "interpreter": {
      "hash": "26de051ba29f2982a8de78e945f0abaf191376122a1563185a90213a26c5da77"
    },
    "kernelspec": {
      "display_name": "Python 3.10.1 64-bit",
      "language": "python",
      "name": "python3"
    },
    "language_info": {
      "codemirror_mode": {
        "name": "ipython",
        "version": 3
      },
      "file_extension": ".py",
      "mimetype": "text/x-python",
      "name": "python",
      "nbconvert_exporter": "python",
      "pygments_lexer": "ipython3",
      "version": "3.10.4"
    }
  },
  "nbformat": 4,
  "nbformat_minor": 0
}
