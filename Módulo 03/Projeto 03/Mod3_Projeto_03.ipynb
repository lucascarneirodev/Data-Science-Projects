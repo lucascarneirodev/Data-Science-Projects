{
 "cells": [
  {
   "cell_type": "code",
   "execution_count": 8,
   "metadata": {},
   "outputs": [
    {
     "name": "stdout",
     "output_type": "stream",
     "text": [
      "Note: you may need to restart the kernel to use updated packages.\n"
     ]
    },
    {
     "name": "stderr",
     "output_type": "stream",
     "text": [
      "WARNING: You are using pip version 22.0.4; however, version 22.1.2 is available.\n",
      "You should consider upgrading via the 'c:\\Program Files\\Python310\\python.exe -m pip install --upgrade pip' command.\n"
     ]
    },
    {
     "name": "stdout",
     "output_type": "stream",
     "text": [
      "Note: you may need to restart the kernel to use updated packages.\n"
     ]
    },
    {
     "name": "stderr",
     "output_type": "stream",
     "text": [
      "WARNING: You are using pip version 22.0.4; however, version 22.1.2 is available.\n",
      "You should consider upgrading via the 'c:\\Program Files\\Python310\\python.exe -m pip install --upgrade pip' command.\n"
     ]
    },
    {
     "name": "stdout",
     "output_type": "stream",
     "text": [
      "Collecting lightgbm\n",
      "  Downloading lightgbm-3.3.2-py3-none-win_amd64.whl (1.0 MB)\n",
      "     ---------------------------------------- 1.0/1.0 MB 6.5 MB/s eta 0:00:00\n",
      "Requirement already satisfied: scipy in c:\\program files\\python310\\lib\\site-packages (from lightgbm) (1.8.1)\n",
      "Collecting wheel\n",
      "  Downloading wheel-0.37.1-py2.py3-none-any.whl (35 kB)\n",
      "Requirement already satisfied: numpy in c:\\program files\\python310\\lib\\site-packages (from lightgbm) (1.22.4)\n",
      "Requirement already satisfied: scikit-learn!=0.22.0 in c:\\program files\\python310\\lib\\site-packages (from lightgbm) (1.1.1)\n",
      "Requirement already satisfied: joblib>=1.0.0 in c:\\program files\\python310\\lib\\site-packages (from scikit-learn!=0.22.0->lightgbm) (1.1.0)\n",
      "Requirement already satisfied: threadpoolctl>=2.0.0 in c:\\program files\\python310\\lib\\site-packages (from scikit-learn!=0.22.0->lightgbm) (3.1.0)\n",
      "Installing collected packages: wheel, lightgbm\n",
      "Successfully installed lightgbm-3.3.2 wheel-0.37.1\n",
      "Note: you may need to restart the kernel to use updated packages.\n"
     ]
    },
    {
     "name": "stderr",
     "output_type": "stream",
     "text": [
      "WARNING: You are using pip version 22.0.4; however, version 22.1.2 is available.\n",
      "You should consider upgrading via the 'c:\\Program Files\\Python310\\python.exe -m pip install --upgrade pip' command.\n"
     ]
    }
   ],
   "source": [
    "# instalação dos pacotes necessários\n",
    "%pip install -U scikit-learn pandas numpy seaborn spacy --quiet\n",
    "%pip install \"https://github.com/explosion/spacy-models/releases/download/en_core_web_lg-3.3.0/en_core_web_lg-3.3.0-py3-none-any.whl\" --quiet\n",
    "%pip install lightgbm"
   ]
  },
  {
   "cell_type": "code",
   "execution_count": 9,
   "metadata": {},
   "outputs": [],
   "source": [
    "import  numpy as np\n",
    "import  pandas as pd\n",
    "\n",
    "import  spacy\n",
    "from    spacy.tokens import Span\n",
    "\n",
    "from    sklearn.model_selection import train_test_split\n",
    "from    sklearn.feature_extraction.text import CountVectorizer\n",
    "from    sklearn.metrics import accuracy_score, precision_score, recall_score\n",
    "from    sklearn.pipeline import Pipeline\n",
    "\n",
    "from    sklearn.tree import DecisionTreeClassifier\n",
    "from    sklearn.ensemble import RandomForestClassifier, AdaBoostClassifier, GradientBoostingClassifier\n",
    "from    sklearn.linear_model import LogisticRegressionCV\n",
    "from    sklearn.svm import SVC\n",
    "import  lightgbm as lgb\n",
    "\n",
    "import  seaborn as sns\n",
    "import  matplotlib.pyplot as plt"
   ]
  },
  {
   "cell_type": "code",
   "execution_count": 10,
   "metadata": {},
   "outputs": [],
   "source": [
    "#silenciar o sklearn\n",
    "from    warnings import simplefilter\n",
    "from    sklearn.exceptions import ConvergenceWarning, UndefinedMetricWarning\n",
    "\n",
    "simplefilter(\"ignore\", category=ConvergenceWarning)\n",
    "simplefilter(\"ignore\", category=UndefinedMetricWarning)"
   ]
  },
  {
   "cell_type": "code",
   "execution_count": 11,
   "metadata": {},
   "outputs": [],
   "source": [
    "nlp = spacy.load('en_core_web_lg')"
   ]
  },
  {
   "cell_type": "code",
   "execution_count": null,
   "metadata": {},
   "outputs": [],
   "source": [
    "# Créditos do código: João Rodrigues\n",
    "def multi_classifier_fit_score(cleaner, vectorizer, classifiers: dict, X, y) -> dict:\n",
    "    \"\"\"\n",
    "    Fit and Test multiple classifiers at the same time\n",
    "    Returns a dictonary of scores and a dictionary of all fitted pipelines accessable by the key of the classifiers' dict\n",
    "\n",
    "    Arguments:\n",
    "      cleaner: a pipeline-ready object to clean data\n",
    "      vectorizer: a pipeline-ready object to vectorize the data\n",
    "      classifiers: a dictionary of classifiers to fit and score {'estimator_name': estimator()}\n",
    "      X: features that explain the target\n",
    "      y: target\n",
    "\n",
    "    Returns:\n",
    "      scores(dict): a dictionary where keys are the classifiers' names inside the classifiers dict and the values are lists\n",
    "        with accuracy, precision and recall scores.\n",
    "      models(dict): a dictionary where the keys are the classifiers' names inside the classifiers dict and the values are \n",
    "        all the models fitted by this function\n",
    "    \"\"\"\n",
    "    from sklearn.metrics import accuracy_score, precision_score, recall_score\n",
    "    from sklearn.model_selection import train_test_split\n",
    "\n",
    "    scores = {}\n",
    "    models = {}\n",
    "\n",
    "    X_train_mcfs, X_test_mcfs, y_train_mcfs, y_test_mcfs = train_test_split(\n",
    "        X, y, test_size=0.3, random_state=10)\n",
    "\n",
    "    for index, classifier in enumerate(classifiers):\n",
    "        classifier_ready = classifiers[classifier]\n",
    "\n",
    "        pipe_multi_classifier = Pipeline(\n",
    "            steps=[('cleaner', cleaner),\n",
    "                   ('vectorizer', vectorizer),\n",
    "                   ('classifier', classifier_ready)]\n",
    "        )\n",
    "\n",
    "        pipe_multi_classifier.fit(X_train_mcfs, y_train_mcfs)\n",
    "\n",
    "        y_pred_mcfs = pipe_multi_classifier.predict(X_test_mcfs)\n",
    "\n",
    "        scores[classifier] = [\n",
    "            (round(accuracy_score(y_test_mcfs, y_pred_mcfs), 3)),\n",
    "            (round(precision_score(y_test_mcfs, y_pred_mcfs, average='weighted'), 3)),\n",
    "            (round(recall_score(y_test_mcfs, y_pred_mcfs, average='weighted'), 3))\n",
    "        ]\n",
    "\n",
    "        models[classifier] = pipe_multi_classifier\n",
    "\n",
    "    return scores, models\n"
   ]
  },
  {
   "cell_type": "code",
   "execution_count": 19,
   "metadata": {},
   "outputs": [],
   "source": [
    "# Créditos do código: João Rodrigues\n",
    "def best_model(scores: dict, metric: str = 'accuracy') -> list:\n",
    "    \"\"\"\n",
    "    Checks a dictionary of estimators scores and return a list containing the best model\n",
    "\n",
    "    Arguments:\n",
    "      scores: {'estimator': [accuracy, precision, recall]}\n",
    "      metric: accuracy | precision | recall\n",
    "\n",
    "    Returns:\n",
    "      list['estimator', 'score', 'metric']\n",
    "    \"\"\"\n",
    "    metrics_dict = {\n",
    "        'accuracy': 0,\n",
    "        'precision': 1,\n",
    "        'recall': 2\n",
    "    }\n",
    "\n",
    "    if metric not in metrics_dict.keys():\n",
    "        metric = 'accuracy'\n",
    "\n",
    "    position = metrics_dict[metric]\n",
    "\n",
    "    melhor_modelo = []\n",
    "\n",
    "    for name, score in scores.items():\n",
    "        if len(melhor_modelo) == 0:\n",
    "            melhor_modelo = [name, score[position]]\n",
    "\n",
    "        if (score[position] >= melhor_modelo[1]):\n",
    "            melhor_modelo = [name, score[position]]\n",
    "\n",
    "    melhor_modelo.append(metric)\n",
    "    return melhor_modelo\n",
    "\n",
    "def multi_classifier_fit_score(cleaner, vectorizer, classifiers: dict, X, y) -> dict:\n",
    "  \"\"\"\n",
    "  Fit and Test multiple classifiers at the same time\n",
    "  Returns a dictonary of scores and a dictionary of all fitted pipelines accessable by the key of the classifiers' dict\n",
    "\n",
    "  Arguments:\n",
    "    cleaner: a pipeline-ready object to clean data\n",
    "    vectorizer: a pipeline-ready object to vectorize the data\n",
    "    classifiers: a dictionary of classifiers to fit and score {'estimator_name': estimator()}\n",
    "    X: features that explain the target\n",
    "    y: target\n",
    "  \n",
    "  Returns:\n",
    "    scores(dict): a dictionary where keys are the classifiers' names inside the classifiers dict and the values are lists\n",
    "      with accuracy, precision and recall scores.\n",
    "    models(dict): a dictionary where the keys are the classifiers' names inside the classifiers dict and the values are \n",
    "      all the models fitted by this function\n",
    "  \"\"\"\n",
    "  from sklearn.metrics import accuracy_score, precision_score, recall_score\n",
    "  from sklearn.model_selection import train_test_split\n",
    "\n",
    "  scores = {}\n",
    "  models = {}\n",
    "\n",
    "  X_train_mcfs, X_test_mcfs, y_train_mcfs, y_test_mcfs = train_test_split(X, y, test_size=0.3, random_state=10)\n",
    "\n",
    "  for index, classifier in enumerate(classifiers):\n",
    "    classifier_ready = classifiers[classifier]\n",
    "  \n",
    "    pipe_multi_classifier = Pipeline(\n",
    "    steps=[('cleaner', cleaner),\n",
    "          ('vectorizer', vectorizer),\n",
    "          ('classifier', classifier_ready)]\n",
    "    )\n",
    "\n",
    "    pipe_multi_classifier.fit(X_train_mcfs, y_train_mcfs)\n",
    "    \n",
    "    y_pred_mcfs = pipe_multi_classifier.predict(X_test_mcfs)\n",
    "    \n",
    "    scores[classifier] = [\n",
    "      (round(accuracy_score(y_test_mcfs, y_pred_mcfs), 3)), \n",
    "      (round(precision_score(y_test_mcfs, y_pred_mcfs, average='weighted'), 3)), \n",
    "      (round(recall_score(y_test_mcfs, y_pred_mcfs, average='weighted'), 3))\n",
    "    ]\n",
    "\n",
    "    models[classifier] = pipe_multi_classifier\n",
    "  \n",
    "  return scores, models"
   ]
  },
  {
   "cell_type": "markdown",
   "metadata": {},
   "source": [
    "#### 1. Construa as funções e a pipeline, separe os dados em treino e teste, execute a pipeline para classificar em positivo, negativo e neutro. Quais foram os valores de acurácia, precisão e sensitividade deste modelo? (3.0 pontos)"
   ]
  },
  {
   "cell_type": "code",
   "execution_count": 22,
   "metadata": {},
   "outputs": [],
   "source": [
    "def prepare_text(text):     \n",
    "    return text.strip().lower()\n",
    "\n",
    "class predictors():\n",
    "    def transform(self, X, **transform_params):\n",
    "        return [prepare_text(text) for text in X]\n",
    "    def fit(self, X, y=None, **fit_params):\n",
    "        return self\n",
    "    def get_params(self, deep=True):\n",
    "        return {}\n",
    "\n",
    "def tokenizer(text):\n",
    "    doc = nlp(text)\n",
    "    tokens = [token for token in doc if ((not token.is_stop) & (not token.is_punct))]\n",
    "    tokens = [token.lemma_.lower().strip() for token in tokens]\n",
    "    return tokens\n",
    "\n",
    "vectorizer = CountVectorizer(tokenizer = tokenizer, ngram_range=(1,1), dtype=np.float64)\n"
   ]
  },
  {
   "cell_type": "code",
   "execution_count": 14,
   "metadata": {},
   "outputs": [],
   "source": [
    "#Getting data\n",
    "financial = pd.read_csv('https://github.com/lucascarneirodev/Data-Science-Projects/raw/main/M%C3%B3dulo%2003/Projeto%2003/data.csv')"
   ]
  },
  {
   "cell_type": "code",
   "execution_count": 13,
   "metadata": {},
   "outputs": [],
   "source": [
    "x = financial.Sentence\n",
    "y = financial.Sentiment"
   ]
  },
  {
   "cell_type": "code",
   "execution_count": 24,
   "metadata": {},
   "outputs": [],
   "source": [
    "classifiers = {\n",
    "              'LGBM': lgb.LGBMClassifier(n_estimators=100, random_state=42), \n",
    "              'SVC': SVC(random_state=42), \n",
    "              'RandomForest': RandomForestClassifier(random_state=42), \n",
    "              'AdaBoost': AdaBoostClassifier(DecisionTreeClassifier(random_state=42), n_estimators=100, random_state=42),\n",
    "              'LogisticRegression': LogisticRegressionCV(cv=5, solver='sag', random_state=42, n_jobs=-1),\n",
    "              'GradientBoosting': GradientBoostingClassifier(random_state=42)\n",
    "              }"
   ]
  },
  {
   "cell_type": "code",
   "execution_count": 25,
   "metadata": {},
   "outputs": [
    {
     "data": {
      "text/plain": [
       "{'LGBM': [0.674, 0.659, 0.674],\n",
       " 'SVC': [0.674, 0.65, 0.674],\n",
       " 'RandomForest': [0.673, 0.655, 0.673],\n",
       " 'AdaBoost': [0.663, 0.659, 0.663],\n",
       " 'LogisticRegression': [0.682, 0.668, 0.682],\n",
       " 'GradientBoosting': [0.693, 0.679, 0.693]}"
      ]
     },
     "execution_count": 25,
     "metadata": {},
     "output_type": "execute_result"
    }
   ],
   "source": [
    "scores, models = multi_classifier_fit_score(cleaner= predictors(), vectorizer= vectorizer, classifiers=classifiers, X = financial.Sentence, y = financial.Sentiment)\n",
    "\n",
    "scores"
   ]
  },
  {
   "cell_type": "code",
   "execution_count": 31,
   "metadata": {},
   "outputs": [
    {
     "data": {
      "text/plain": [
       "['GradientBoosting', 0.693, 'accuracy']"
      ]
     },
     "execution_count": 31,
     "metadata": {},
     "output_type": "execute_result"
    }
   ],
   "source": [
    "greatest_model = best_model(scores, metric='accuracy')\n",
    "greatest_model"
   ]
  },
  {
   "cell_type": "code",
   "execution_count": 32,
   "metadata": {},
   "outputs": [
    {
     "name": "stdout",
     "output_type": "stream",
     "text": [
      "\n",
      "Best model: GradientBoosting\n",
      "Score:\n",
      "    Accuracy: 0.693\n",
      "    Precision: 0.679\n",
      "    Recall: 0.693\n",
      "\n"
     ]
    }
   ],
   "source": [
    "acc = scores['GradientBoosting'][0]\n",
    "prec = scores['GradientBoosting'][1]\n",
    "rec = scores['GradientBoosting'][2]\n",
    "\n",
    "print(f'''\n",
    "Best model: {greatest_model[0]}\n",
    "Score:\n",
    "    Accuracy: {acc}\n",
    "    Precision: {prec}\n",
    "    Recall: {rec}\n",
    "''')\n"
   ]
  },
  {
   "cell_type": "markdown",
   "metadata": {},
   "source": [
    "#### 2. Use o seu modelo para classificar os seguintes textos extraídos do site Financial Times. Faça uma tabela com o valor esperado e o valor obtido, e responda: houve divergência entre o esperado e o obtido? O que poderia ser feito para corrigir? (1.0 ponto)\n",
    "a. Central banks’ rate rises, geopolitical risk and slowing growth trigger investors’ stampede for safety. resultado esperado: [negativo]\n",
    "\n",
    "b. China opens up bond market in bid to woo foreign investors. resultado esperado: [neutro]\n",
    "\n",
    "c. HM Revenue & Customs says residents had £850bn in accounts overseas but it does not estimate if tax paid on this. resultado esperado: [negativo]\n",
    "\n",
    "d. Japan’s horrifying crop of data falsification is also encouraging. The scandals have emerged from a distinct new phase in the evolution of the country’s shareholder capitalism. resultado esperado: [negativo]\n",
    "\n",
    "e. Despite internal problems, the group continues to exert a tight grip on the US’s gun control debate. resultado esperado: [neutro]"
   ]
  },
  {
   "cell_type": "code",
   "execution_count": 27,
   "metadata": {},
   "outputs": [
    {
     "data": {
      "text/html": [
       "<div>\n",
       "<style scoped>\n",
       "    .dataframe tbody tr th:only-of-type {\n",
       "        vertical-align: middle;\n",
       "    }\n",
       "\n",
       "    .dataframe tbody tr th {\n",
       "        vertical-align: top;\n",
       "    }\n",
       "\n",
       "    .dataframe thead th {\n",
       "        text-align: right;\n",
       "    }\n",
       "</style>\n",
       "<table border=\"1\" class=\"dataframe\">\n",
       "  <thead>\n",
       "    <tr style=\"text-align: right;\">\n",
       "      <th></th>\n",
       "      <th>Sentence</th>\n",
       "      <th>Sentiment</th>\n",
       "    </tr>\n",
       "  </thead>\n",
       "  <tbody>\n",
       "    <tr>\n",
       "      <th>0</th>\n",
       "      <td>Central banks’ rate rises, geopolitical risk a...</td>\n",
       "      <td>negative</td>\n",
       "    </tr>\n",
       "    <tr>\n",
       "      <th>1</th>\n",
       "      <td>China opens up bond market in bid to woo forei...</td>\n",
       "      <td>neutral</td>\n",
       "    </tr>\n",
       "    <tr>\n",
       "      <th>2</th>\n",
       "      <td>HM Revenue &amp; Customs says residents had £850bn...</td>\n",
       "      <td>negative</td>\n",
       "    </tr>\n",
       "    <tr>\n",
       "      <th>3</th>\n",
       "      <td>Japan’s horrifying crop of data falsification ...</td>\n",
       "      <td>negative</td>\n",
       "    </tr>\n",
       "    <tr>\n",
       "      <th>4</th>\n",
       "      <td>Despite internal problems, the group continues...</td>\n",
       "      <td>neutral</td>\n",
       "    </tr>\n",
       "  </tbody>\n",
       "</table>\n",
       "</div>"
      ],
      "text/plain": [
       "                                            Sentence Sentiment\n",
       "0  Central banks’ rate rises, geopolitical risk a...  negative\n",
       "1  China opens up bond market in bid to woo forei...   neutral\n",
       "2  HM Revenue & Customs says residents had £850bn...  negative\n",
       "3  Japan’s horrifying crop of data falsification ...  negative\n",
       "4  Despite internal problems, the group continues...   neutral"
      ]
     },
     "execution_count": 27,
     "metadata": {},
     "output_type": "execute_result"
    }
   ],
   "source": [
    "sentence_data = {\n",
    "                  \"Sentence\": [\"Central banks’ rate rises, geopolitical risk and slowing growth trigger investors’ stampede for safety.\",\n",
    "                          \"China opens up bond market in bid to woo foreign investors.\",\n",
    "                          \"HM Revenue & Customs says residents had £850bn in accounts overseas but it does not estimate if tax paid on this.\",\n",
    "                          \"Japan’s horrifying crop of data falsification is also encouraging. The scandals have emerged from a distinct new phase in the evolution of the country’s shareholder capitalism.\",\n",
    "                          \"Despite internal problems, the group continues to exert a tight grip on the US’s gun control debate.\"],\n",
    "                  \"Sentiment\": [\"negative\", \"neutral\", \"negative\", \"negative\", \"neutral\"]        \n",
    "                          }\n",
    "                          \n",
    "sentence_data = pd.DataFrame(sentence_data)\n",
    "\n",
    "sentence_data.head()"
   ]
  },
  {
   "cell_type": "code",
   "execution_count": 33,
   "metadata": {},
   "outputs": [
    {
     "data": {
      "text/html": [
       "<style>#sk-container-id-1 {color: black;background-color: white;}#sk-container-id-1 pre{padding: 0;}#sk-container-id-1 div.sk-toggleable {background-color: white;}#sk-container-id-1 label.sk-toggleable__label {cursor: pointer;display: block;width: 100%;margin-bottom: 0;padding: 0.3em;box-sizing: border-box;text-align: center;}#sk-container-id-1 label.sk-toggleable__label-arrow:before {content: \"▸\";float: left;margin-right: 0.25em;color: #696969;}#sk-container-id-1 label.sk-toggleable__label-arrow:hover:before {color: black;}#sk-container-id-1 div.sk-estimator:hover label.sk-toggleable__label-arrow:before {color: black;}#sk-container-id-1 div.sk-toggleable__content {max-height: 0;max-width: 0;overflow: hidden;text-align: left;background-color: #f0f8ff;}#sk-container-id-1 div.sk-toggleable__content pre {margin: 0.2em;color: black;border-radius: 0.25em;background-color: #f0f8ff;}#sk-container-id-1 input.sk-toggleable__control:checked~div.sk-toggleable__content {max-height: 200px;max-width: 100%;overflow: auto;}#sk-container-id-1 input.sk-toggleable__control:checked~label.sk-toggleable__label-arrow:before {content: \"▾\";}#sk-container-id-1 div.sk-estimator input.sk-toggleable__control:checked~label.sk-toggleable__label {background-color: #d4ebff;}#sk-container-id-1 div.sk-label input.sk-toggleable__control:checked~label.sk-toggleable__label {background-color: #d4ebff;}#sk-container-id-1 input.sk-hidden--visually {border: 0;clip: rect(1px 1px 1px 1px);clip: rect(1px, 1px, 1px, 1px);height: 1px;margin: -1px;overflow: hidden;padding: 0;position: absolute;width: 1px;}#sk-container-id-1 div.sk-estimator {font-family: monospace;background-color: #f0f8ff;border: 1px dotted black;border-radius: 0.25em;box-sizing: border-box;margin-bottom: 0.5em;}#sk-container-id-1 div.sk-estimator:hover {background-color: #d4ebff;}#sk-container-id-1 div.sk-parallel-item::after {content: \"\";width: 100%;border-bottom: 1px solid gray;flex-grow: 1;}#sk-container-id-1 div.sk-label:hover label.sk-toggleable__label {background-color: #d4ebff;}#sk-container-id-1 div.sk-serial::before {content: \"\";position: absolute;border-left: 1px solid gray;box-sizing: border-box;top: 0;bottom: 0;left: 50%;z-index: 0;}#sk-container-id-1 div.sk-serial {display: flex;flex-direction: column;align-items: center;background-color: white;padding-right: 0.2em;padding-left: 0.2em;position: relative;}#sk-container-id-1 div.sk-item {position: relative;z-index: 1;}#sk-container-id-1 div.sk-parallel {display: flex;align-items: stretch;justify-content: center;background-color: white;position: relative;}#sk-container-id-1 div.sk-item::before, #sk-container-id-1 div.sk-parallel-item::before {content: \"\";position: absolute;border-left: 1px solid gray;box-sizing: border-box;top: 0;bottom: 0;left: 50%;z-index: -1;}#sk-container-id-1 div.sk-parallel-item {display: flex;flex-direction: column;z-index: 1;position: relative;background-color: white;}#sk-container-id-1 div.sk-parallel-item:first-child::after {align-self: flex-end;width: 50%;}#sk-container-id-1 div.sk-parallel-item:last-child::after {align-self: flex-start;width: 50%;}#sk-container-id-1 div.sk-parallel-item:only-child::after {width: 0;}#sk-container-id-1 div.sk-dashed-wrapped {border: 1px dashed gray;margin: 0 0.4em 0.5em 0.4em;box-sizing: border-box;padding-bottom: 0.4em;background-color: white;}#sk-container-id-1 div.sk-label label {font-family: monospace;font-weight: bold;display: inline-block;line-height: 1.2em;}#sk-container-id-1 div.sk-label-container {text-align: center;}#sk-container-id-1 div.sk-container {/* jupyter's `normalize.less` sets `[hidden] { display: none; }` but bootstrap.min.css set `[hidden] { display: none !important; }` so we also need the `!important` here to be able to override the default hidden behavior on the sphinx rendered scikit-learn.org. See: https://github.com/scikit-learn/scikit-learn/issues/21755 */display: inline-block !important;position: relative;}#sk-container-id-1 div.sk-text-repr-fallback {display: none;}</style><div id=\"sk-container-id-1\" class=\"sk-top-container\"><div class=\"sk-text-repr-fallback\"><pre>Pipeline(steps=[(&#x27;cleaner&#x27;, &lt;__main__.predictors object at 0x0000020E7CB85630&gt;),\n",
       "                (&#x27;vectorizer&#x27;,\n",
       "                 CountVectorizer(dtype=&lt;class &#x27;numpy.float64&#x27;&gt;,\n",
       "                                 tokenizer=&lt;function tokenizer at 0x0000020E005D5870&gt;)),\n",
       "                (&#x27;classifier&#x27;, GradientBoostingClassifier(random_state=42))])</pre><b>In a Jupyter environment, please rerun this cell to show the HTML representation or trust the notebook. <br />On GitHub, the HTML representation is unable to render, please try loading this page with nbviewer.org.</b></div><div class=\"sk-container\" hidden><div class=\"sk-item sk-dashed-wrapped\"><div class=\"sk-label-container\"><div class=\"sk-label sk-toggleable\"><input class=\"sk-toggleable__control sk-hidden--visually\" id=\"sk-estimator-id-1\" type=\"checkbox\" ><label for=\"sk-estimator-id-1\" class=\"sk-toggleable__label sk-toggleable__label-arrow\">Pipeline</label><div class=\"sk-toggleable__content\"><pre>Pipeline(steps=[(&#x27;cleaner&#x27;, &lt;__main__.predictors object at 0x0000020E7CB85630&gt;),\n",
       "                (&#x27;vectorizer&#x27;,\n",
       "                 CountVectorizer(dtype=&lt;class &#x27;numpy.float64&#x27;&gt;,\n",
       "                                 tokenizer=&lt;function tokenizer at 0x0000020E005D5870&gt;)),\n",
       "                (&#x27;classifier&#x27;, GradientBoostingClassifier(random_state=42))])</pre></div></div></div><div class=\"sk-serial\"><div class=\"sk-item\"><div class=\"sk-estimator sk-toggleable\"><input class=\"sk-toggleable__control sk-hidden--visually\" id=\"sk-estimator-id-2\" type=\"checkbox\" ><label for=\"sk-estimator-id-2\" class=\"sk-toggleable__label sk-toggleable__label-arrow\">predictors</label><div class=\"sk-toggleable__content\"><pre>&lt;__main__.predictors object at 0x0000020E7CB85630&gt;</pre></div></div></div><div class=\"sk-item\"><div class=\"sk-estimator sk-toggleable\"><input class=\"sk-toggleable__control sk-hidden--visually\" id=\"sk-estimator-id-3\" type=\"checkbox\" ><label for=\"sk-estimator-id-3\" class=\"sk-toggleable__label sk-toggleable__label-arrow\">CountVectorizer</label><div class=\"sk-toggleable__content\"><pre>CountVectorizer(dtype=&lt;class &#x27;numpy.float64&#x27;&gt;,\n",
       "                tokenizer=&lt;function tokenizer at 0x0000020E005D5870&gt;)</pre></div></div></div><div class=\"sk-item\"><div class=\"sk-estimator sk-toggleable\"><input class=\"sk-toggleable__control sk-hidden--visually\" id=\"sk-estimator-id-4\" type=\"checkbox\" ><label for=\"sk-estimator-id-4\" class=\"sk-toggleable__label sk-toggleable__label-arrow\">GradientBoostingClassifier</label><div class=\"sk-toggleable__content\"><pre>GradientBoostingClassifier(random_state=42)</pre></div></div></div></div></div></div></div>"
      ],
      "text/plain": [
       "Pipeline(steps=[('cleaner', <__main__.predictors object at 0x0000020E7CB85630>),\n",
       "                ('vectorizer',\n",
       "                 CountVectorizer(dtype=<class 'numpy.float64'>,\n",
       "                                 tokenizer=<function tokenizer at 0x0000020E005D5870>)),\n",
       "                ('classifier', GradientBoostingClassifier(random_state=42))])"
      ]
     },
     "execution_count": 33,
     "metadata": {},
     "output_type": "execute_result"
    }
   ],
   "source": [
    "models[greatest_model[0]]"
   ]
  },
  {
   "cell_type": "code",
   "execution_count": 71,
   "metadata": {},
   "outputs": [
    {
     "name": "stdout",
     "output_type": "stream",
     "text": [
      "0.4\n",
      "0.167\n",
      "0.333\n"
     ]
    }
   ],
   "source": [
    "y_pred = models[greatest_model[0]].predict(sentence_data.Sentence)\n",
    "print(round(accuracy_score(sentence_data.Sentiment, y_pred), 3))\n",
    "print(round(precision_score(sentence_data.Sentiment, y_pred, average='macro'), 3))\n",
    "print(round(recall_score(sentence_data.Sentiment, y_pred, average='macro'), 3))"
   ]
  },
  {
   "cell_type": "code",
   "execution_count": 72,
   "metadata": {},
   "outputs": [
    {
     "data": {
      "text/html": [
       "<div>\n",
       "<style scoped>\n",
       "    .dataframe tbody tr th:only-of-type {\n",
       "        vertical-align: middle;\n",
       "    }\n",
       "\n",
       "    .dataframe tbody tr th {\n",
       "        vertical-align: top;\n",
       "    }\n",
       "\n",
       "    .dataframe thead th {\n",
       "        text-align: right;\n",
       "    }\n",
       "</style>\n",
       "<table border=\"1\" class=\"dataframe\">\n",
       "  <thead>\n",
       "    <tr style=\"text-align: right;\">\n",
       "      <th></th>\n",
       "      <th>Sentence</th>\n",
       "      <th>Original Sentiment</th>\n",
       "      <th>Predicted Sentiment</th>\n",
       "      <th>Divergence</th>\n",
       "    </tr>\n",
       "  </thead>\n",
       "  <tbody>\n",
       "    <tr>\n",
       "      <th>0</th>\n",
       "      <td>Central banks’ rate rises, geopolitical risk a...</td>\n",
       "      <td>negative</td>\n",
       "      <td>positive</td>\n",
       "      <td>True</td>\n",
       "    </tr>\n",
       "    <tr>\n",
       "      <th>1</th>\n",
       "      <td>China opens up bond market in bid to woo forei...</td>\n",
       "      <td>neutral</td>\n",
       "      <td>neutral</td>\n",
       "      <td>False</td>\n",
       "    </tr>\n",
       "    <tr>\n",
       "      <th>2</th>\n",
       "      <td>HM Revenue &amp; Customs says residents had £850bn...</td>\n",
       "      <td>negative</td>\n",
       "      <td>neutral</td>\n",
       "      <td>True</td>\n",
       "    </tr>\n",
       "    <tr>\n",
       "      <th>3</th>\n",
       "      <td>Japan’s horrifying crop of data falsification ...</td>\n",
       "      <td>negative</td>\n",
       "      <td>neutral</td>\n",
       "      <td>True</td>\n",
       "    </tr>\n",
       "    <tr>\n",
       "      <th>4</th>\n",
       "      <td>Despite internal problems, the group continues...</td>\n",
       "      <td>neutral</td>\n",
       "      <td>neutral</td>\n",
       "      <td>False</td>\n",
       "    </tr>\n",
       "  </tbody>\n",
       "</table>\n",
       "</div>"
      ],
      "text/plain": [
       "                                            Sentence Original Sentiment  \\\n",
       "0  Central banks’ rate rises, geopolitical risk a...           negative   \n",
       "1  China opens up bond market in bid to woo forei...            neutral   \n",
       "2  HM Revenue & Customs says residents had £850bn...           negative   \n",
       "3  Japan’s horrifying crop of data falsification ...           negative   \n",
       "4  Despite internal problems, the group continues...            neutral   \n",
       "\n",
       "  Predicted Sentiment  Divergence  \n",
       "0            positive        True  \n",
       "1             neutral       False  \n",
       "2             neutral        True  \n",
       "3             neutral        True  \n",
       "4             neutral       False  "
      ]
     },
     "execution_count": 72,
     "metadata": {},
     "output_type": "execute_result"
    }
   ],
   "source": [
    "sentences = sentence_data['Sentence']\n",
    "sentiments = sentence_data['Sentiment']\n",
    "sentiments_pred = y_pred\n",
    "\n",
    "values_dict = {\"Sentence\": sentences, \"Original Sentiment\": sentiments, \"Predicted Sentiment\": sentiments_pred}\n",
    "\n",
    "results_sentence = pd.DataFrame(values_dict)\n",
    "\n",
    "results_sentence['Divergence'] = results_sentence[\"Predicted Sentiment\"] != results_sentence[\"Original Sentiment\"]\n",
    "\n",
    "results_sentence"
   ]
  },
  {
   "cell_type": "code",
   "execution_count": 47,
   "metadata": {},
   "outputs": [
    {
     "data": {
      "text/plain": [
       "True     3\n",
       "False    2\n",
       "Name: Divergence, dtype: int64"
      ]
     },
     "execution_count": 47,
     "metadata": {},
     "output_type": "execute_result"
    }
   ],
   "source": [
    "results_sentence['Divergence'].value_counts()"
   ]
  },
  {
   "cell_type": "markdown",
   "metadata": {},
   "source": [
    "#### 3. Faça uma análise exploratória, onde identifique as três empresas mais citadas e quantifique os níveis de positividade, negatividade e neutralidade dos textos sobre estas empresas. (3.0 pontos)\n",
    "\n",
    "##### a. Extraia de todos os textos as entidades, há quantas entidades? (0.6 pontos) "
   ]
  },
  {
   "cell_type": "code",
   "execution_count": 49,
   "metadata": {},
   "outputs": [
    {
     "data": {
      "text/plain": [
       "15408"
      ]
     },
     "execution_count": 49,
     "metadata": {},
     "output_type": "execute_result"
    }
   ],
   "source": [
    "entities = 0\n",
    "for row in range(financial.shape[0]):\n",
    "  doc = nlp(financial.Sentence[row])\n",
    "  for ent in doc.ents:\n",
    "    entities += 1\n",
    "\n",
    "entities"
   ]
  },
  {
   "cell_type": "markdown",
   "metadata": {},
   "source": [
    "##### b. Quantas entidades são empresas? (0.6 pontos)"
   ]
  },
  {
   "cell_type": "code",
   "execution_count": 83,
   "metadata": {},
   "outputs": [
    {
     "data": {
      "text/html": [
       "<div>\n",
       "<style scoped>\n",
       "    .dataframe tbody tr th:only-of-type {\n",
       "        vertical-align: middle;\n",
       "    }\n",
       "\n",
       "    .dataframe tbody tr th {\n",
       "        vertical-align: top;\n",
       "    }\n",
       "\n",
       "    .dataframe thead th {\n",
       "        text-align: right;\n",
       "    }\n",
       "</style>\n",
       "<table border=\"1\" class=\"dataframe\">\n",
       "  <thead>\n",
       "    <tr style=\"text-align: right;\">\n",
       "      <th></th>\n",
       "      <th>original_index</th>\n",
       "      <th>entity</th>\n",
       "      <th>sentiment</th>\n",
       "    </tr>\n",
       "  </thead>\n",
       "  <tbody>\n",
       "    <tr>\n",
       "      <th>0</th>\n",
       "      <td>0</td>\n",
       "      <td>GeoSolutions</td>\n",
       "      <td>positive</td>\n",
       "    </tr>\n",
       "    <tr>\n",
       "      <th>1</th>\n",
       "      <td>0</td>\n",
       "      <td>Location Based Search Technology</td>\n",
       "      <td>positive</td>\n",
       "    </tr>\n",
       "    <tr>\n",
       "      <th>2</th>\n",
       "      <td>1</td>\n",
       "      <td>ESI</td>\n",
       "      <td>negative</td>\n",
       "    </tr>\n",
       "    <tr>\n",
       "      <th>3</th>\n",
       "      <td>1</td>\n",
       "      <td>BK</td>\n",
       "      <td>negative</td>\n",
       "    </tr>\n",
       "    <tr>\n",
       "      <th>4</th>\n",
       "      <td>2</td>\n",
       "      <td>Componenta</td>\n",
       "      <td>positive</td>\n",
       "    </tr>\n",
       "  </tbody>\n",
       "</table>\n",
       "</div>"
      ],
      "text/plain": [
       "   original_index                            entity sentiment\n",
       "0               0                      GeoSolutions  positive\n",
       "1               0  Location Based Search Technology  positive\n",
       "2               1                               ESI  negative\n",
       "3               1                                BK  negative\n",
       "4               2                        Componenta  positive"
      ]
     },
     "execution_count": 83,
     "metadata": {},
     "output_type": "execute_result"
    }
   ],
   "source": [
    "cleaning_list = ['EUR', '65mn', 'Group', 'Location Based Search Technology']\n",
    "orgs = {'original_index': [], 'entity': [], 'sentiment': []}\n",
    "for row in range(financial.shape[0]):\n",
    "  doc = nlp(financial.Sentence[row])\n",
    "  new_labels = []\n",
    "  index = -1\n",
    "  for token in doc:\n",
    "    index += 1\n",
    "    if token.text in cleaning_list:\n",
    "      new_labels.append(Span(doc, index, index+1, label=\"OTHER\"))\n",
    "      doc.set_ents(new_labels, default=\"unmodified\")\n",
    "  for ent in doc.ents:\n",
    "    if ent.label_ == 'ORG':\n",
    "      orgs['original_index'].append(row)\n",
    "      orgs['entity'].append(ent.text)\n",
    "      orgs['sentiment'].append(financial.Sentiment[row])\n",
    "    \n",
    "\n",
    "entities = pd.DataFrame(orgs)\n",
    "entities.head()"
   ]
  },
  {
   "cell_type": "code",
   "execution_count": 74,
   "metadata": {},
   "outputs": [
    {
     "data": {
      "text/plain": [
       "(4606,)"
      ]
     },
     "execution_count": 74,
     "metadata": {},
     "output_type": "execute_result"
    }
   ],
   "source": [
    "entities.entity.shape"
   ]
  },
  {
   "cell_type": "markdown",
   "metadata": {},
   "source": [
    "##### c. Quais são as três empresas mais citadas? (0.6 pontos)"
   ]
  },
  {
   "cell_type": "code",
   "execution_count": 92,
   "metadata": {},
   "outputs": [
    {
     "data": {
      "text/plain": [
       "Nokia                     63\n",
       "AAPL                      40\n",
       "Finnair                   29\n",
       "Tesco                     29\n",
       "FTSE                      26\n",
       "                          ..\n",
       "Top Post                   1\n",
       "Hillshire Farms            1\n",
       "ConAgra Names              1\n",
       "Pioneer Library System     1\n",
       "Nordic Walking             1\n",
       "Name: entity, Length: 2664, dtype: int64"
      ]
     },
     "execution_count": 92,
     "metadata": {},
     "output_type": "execute_result"
    }
   ],
   "source": [
    "entities.entity.value_counts()"
   ]
  },
  {
   "cell_type": "markdown",
   "metadata": {},
   "source": [
    "##### d. Faça uma tabela onde demonstre as três empresas mais citadas e o total de textos positivos, negativos e neutros de cada uma. (1.2 pontos)"
   ]
  },
  {
   "cell_type": "code",
   "execution_count": 93,
   "metadata": {},
   "outputs": [
    {
     "data": {
      "text/html": [
       "<div>\n",
       "<style scoped>\n",
       "    .dataframe tbody tr th:only-of-type {\n",
       "        vertical-align: middle;\n",
       "    }\n",
       "\n",
       "    .dataframe tbody tr th {\n",
       "        vertical-align: top;\n",
       "    }\n",
       "\n",
       "    .dataframe thead th {\n",
       "        text-align: right;\n",
       "    }\n",
       "</style>\n",
       "<table border=\"1\" class=\"dataframe\">\n",
       "  <thead>\n",
       "    <tr style=\"text-align: right;\">\n",
       "      <th></th>\n",
       "      <th>FTSE</th>\n",
       "      <th>Tesco</th>\n",
       "      <th>AAPL</th>\n",
       "      <th>sentiment</th>\n",
       "    </tr>\n",
       "  </thead>\n",
       "  <tbody>\n",
       "    <tr>\n",
       "      <th>0</th>\n",
       "      <td>2</td>\n",
       "      <td>3</td>\n",
       "      <td>2</td>\n",
       "      <td>neutral</td>\n",
       "    </tr>\n",
       "    <tr>\n",
       "      <th>1</th>\n",
       "      <td>11</td>\n",
       "      <td>11</td>\n",
       "      <td>11</td>\n",
       "      <td>negative</td>\n",
       "    </tr>\n",
       "    <tr>\n",
       "      <th>2</th>\n",
       "      <td>13</td>\n",
       "      <td>15</td>\n",
       "      <td>27</td>\n",
       "      <td>positive</td>\n",
       "    </tr>\n",
       "  </tbody>\n",
       "</table>\n",
       "</div>"
      ],
      "text/plain": [
       "   FTSE  Tesco  AAPL sentiment\n",
       "0     2      3     2   neutral\n",
       "1    11     11    11  negative\n",
       "2    13     15    27  positive"
      ]
     },
     "execution_count": 93,
     "metadata": {},
     "output_type": "execute_result"
    }
   ],
   "source": [
    "most_quoted = ['FTSE', 'Tesco', 'AAPL']\n",
    "sentiments = ['neutral', 'negative', 'positive']\n",
    "total_val = {'FTSE': {}, 'Tesco': {}, 'AAPL': {}}\n",
    "\n",
    "for brand in most_quoted:\n",
    "  df = entities[entities['entity'] == brand]\n",
    "  df = df.drop('original_index', axis=1)\n",
    "\n",
    "  for sentiment in sentiments:\n",
    "    count = df[df['sentiment'] == sentiment].value_counts()\n",
    "    count = pd.DataFrame(count)\n",
    "    count.reset_index(inplace=True)\n",
    "    count.columns = ['entity', 'sentiment', 'count']\n",
    "    count.drop(['entity', 'sentiment'], axis=1, inplace=True)\n",
    "    total_val[brand][sentiment] = int(count['count'].to_string()[1:].strip())\n",
    "  \n",
    "total_val = pd.DataFrame(total_val)\n",
    "total_val.reset_index(inplace=True)\n",
    "total_val.columns = ['sentiment'] + most_quoted\n",
    "total_val = total_val[[column for column in total_val if column not in ['sentiment']] + ['sentiment']]\n",
    "total_val"
   ]
  },
  {
   "cell_type": "markdown",
   "metadata": {},
   "source": [
    "#### 4. Faça gráficos a partir da tabela obtida acima. Descreva cada gráfico de forma que estivesse apresentando à diretoria dessas três empresas. (3.0 pontos)"
   ]
  },
  {
   "cell_type": "code",
   "execution_count": 61,
   "metadata": {},
   "outputs": [
    {
     "data": {
      "text/plain": [
       "<AxesSubplot:xlabel='sentiment', ylabel='Nokia'>"
      ]
     },
     "execution_count": 61,
     "metadata": {},
     "output_type": "execute_result"
    },
    {
     "data": {
      "image/png": "[encoded data removed]",
      "text/plain": [
       "<Figure size 432x288 with 1 Axes>"
      ]
     },
     "metadata": {
      "needs_background": "light"
     },
     "output_type": "display_data"
    }
   ],
   "source": [
    "sns.barplot(x='sentiment', y='FTSE', data=total_val)"
   ]
  },
  {
   "cell_type": "markdown",
   "metadata": {},
   "source": [
    "Com base na análise de sentimento dos dados coletados, podemos afirmar que a marca é vista de forma majoritariamente positiva/neutra pela mídia."
   ]
  },
  {
   "cell_type": "code",
   "execution_count": 62,
   "metadata": {},
   "outputs": [
    {
     "data": {
      "text/plain": [
       "<AxesSubplot:xlabel='sentiment', ylabel='AAPL'>"
      ]
     },
     "execution_count": 62,
     "metadata": {},
     "output_type": "execute_result"
    },
    {
     "data": {
      "image/png": "[encoded data removed]",
      "text/plain": [
       "<Figure size 432x288 with 1 Axes>"
      ]
     },
     "metadata": {
      "needs_background": "light"
     },
     "output_type": "display_data"
    }
   ],
   "source": [
    "sns.barplot(x='sentiment', y='Tesco', data=total_val)"
   ]
  },
  {
   "cell_type": "markdown",
   "metadata": {},
   "source": [
    "Através da análise dos dados coletados para análise de sentimento da mídia em relação a empresa AAPL, podemos observar que a empresa é vista de forma majoritariamente positiva pela mídia."
   ]
  },
  {
   "cell_type": "code",
   "execution_count": 63,
   "metadata": {},
   "outputs": [
    {
     "data": {
      "text/plain": [
       "<AxesSubplot:xlabel='sentiment', ylabel='Finnair'>"
      ]
     },
     "execution_count": 63,
     "metadata": {},
     "output_type": "execute_result"
    },
    {
     "data": {
      "image/png": "[encoded data removed]",
      "text/plain": [
       "<Figure size 432x288 with 1 Axes>"
      ]
     },
     "metadata": {
      "needs_background": "light"
     },
     "output_type": "display_data"
    }
   ],
   "source": [
    "sns.barplot(x='sentiment', y='AAPL', data=total_val)"
   ]
  },
  {
   "cell_type": "markdown",
   "metadata": {},
   "source": [
    "Com os dados coletados sobre a empresa Finnair, conseguimos concluir que a empresa é vista de forma neutra ou positiva pela mídia especializada, ainda assim há uma quantidade considerável de publicações negativas a respeito que devem ser consideradas para as campanhas de marketing futuras."
   ]
  }
 ],
 "metadata": {
  "kernelspec": {
   "display_name": "Python 3.10.4 64-bit",
   "language": "python",
   "name": "python3"
  },
  "language_info": {
   "codemirror_mode": {
    "name": "ipython",
    "version": 3
   },
   "file_extension": ".py",
   "mimetype": "text/x-python",
   "name": "python",
   "nbconvert_exporter": "python",
   "pygments_lexer": "ipython3",
   "version": "3.10.4"
  },
  "orig_nbformat": 4,
  "vscode": {
   "interpreter": {
    "hash": "26de051ba29f2982a8de78e945f0abaf191376122a1563185a90213a26c5da77"
   }
  }
 },
 "nbformat": 4,
 "nbformat_minor": 2
}
