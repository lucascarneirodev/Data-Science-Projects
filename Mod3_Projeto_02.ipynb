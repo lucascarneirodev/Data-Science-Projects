{
  "nbformat": 4,
  "nbformat_minor": 0,
  "metadata": {
    "colab": {
      "name": "Mod3 - Projeto 02.ipynb",
      "provenance": [],
      "authorship_tag": "ABX9TyNCcFcxJ7ogl2JVn8p2c0ll",
      "include_colab_link": true
    },
    "kernelspec": {
      "name": "python3",
      "display_name": "Python 3"
    },
    "language_info": {
      "name": "python"
    }
  },
  "cells": [
    {
      "cell_type": "markdown",
      "metadata": {
        "id": "view-in-github",
        "colab_type": "text"
      },
      "source": [
        "<a href=\"https://colab.research.google.com/github/lucascarneirodev/Data-Science-Projects/blob/main/Mod3_Projeto_02.ipynb\" target=\"_parent\"><img src=\"https://colab.research.google.com/assets/colab-badge.svg\" alt=\"Open In Colab\"/></a>"
      ]
    },
    {
      "cell_type": "markdown",
      "source": [
        "#Exercício\n",
        "Neste projeto você deverá desenvolver a partir do que já vimos nos projetos anteriores, ou seja, poderá usar qualquer um dos modelos vistos durante as aulas. Siga este roteiro e preencha cada parte."
      ],
      "metadata": {
        "id": "9TD9VguEKXvA"
      }
    },
    {
      "cell_type": "code",
      "source": [
        "import pandas as pd\n",
        "import numpy as np\n",
        "\n",
        "import seaborn as sb\n",
        "import matplotlib as mt\n",
        "\n",
        "data = pd.read_csv(\"/content/test.csv\")"
      ],
      "metadata": {
        "id": "ACHViCIQLEHl"
      },
      "execution_count": null,
      "outputs": []
    },
    {
      "cell_type": "markdown",
      "source": [
        "#1. Análise exploratória de dados (1.0 ponto)\n",
        "Realize a análise exploratória de dados. Observe cada variável, como se comportam em relação a outras variáveis independentes e com a variável dependente."
      ],
      "metadata": {
        "id": "VLF59sHIKeFV"
      }
    },
    {
      "cell_type": "markdown",
      "source": [
        "#2. Levantamento de hipóteses (1.0 ponto)\n",
        "Descreva quais hipóteses você observou ao fazer a análise exploratória de dados."
      ],
      "metadata": {
        "id": "sIJGL5AUKjqO"
      }
    },
    {
      "cell_type": "markdown",
      "source": [
        "#3. Apresentação das ideias obtidas (1.0 ponto)\n",
        "Apresente com gráficos as suas observações e a descreva cada gráfico."
      ],
      "metadata": {
        "id": "oVshazIkKo9G"
      }
    },
    {
      "cell_type": "markdown",
      "source": [
        "#4. Preparação dos dados (1.0 ponto)\n",
        "Faça um processamento nos dados, preenchendo valores faltantes, removendo dados ou variáveis inconsistentes e normalizado os dados"
      ],
      "metadata": {
        "id": "R-fKO-pJKsVd"
      }
    },
    {
      "cell_type": "markdown",
      "source": [
        "#5. Criação e seleção de características (1.0 ponto)\n",
        "Observando as variáveis disponíveis, é possível criar novas variáveis? Ou trazer de um dado externo novos dados para agregar aos existentes? É possível selecionar uma variável ou grupo de variáveis que melhor explica a variável dependente?"
      ],
      "metadata": {
        "id": "jh4A1uiAKv29"
      }
    },
    {
      "cell_type": "markdown",
      "source": [
        "#6. Decisão do modelo (1.0 ponto)\n",
        "Dada toda a análise realizada nos pontos anteriores, qual modelo melhor se adequa a este problema? E por quê?"
      ],
      "metadata": {
        "id": "La13Y0krKz1V"
      }
    },
    {
      "cell_type": "markdown",
      "source": [
        "#7. Modelagem (1.0 ponto)\n",
        "Divida os dados em teste e treino, construa o seu modelo e teste alterar os parâmetros utilizados por ele."
      ],
      "metadata": {
        "id": "AsYab3UNK3HA"
      }
    },
    {
      "cell_type": "markdown",
      "source": [
        "#8. Histórico (1.0 pontos)\n",
        "Preencha a tabela abaixo com cada teste realizado com seu modelo (coloque vazio se a métrica não se aplica). Não se preocupe caso voce mude de ideia sobre qual modelo testar, mas não deixe de testá-lo exaustivamente e, caso precise, retorne para o passo de criação e seleção de características."
      ],
      "metadata": {
        "id": "rAOXh7bXK74d"
      }
    },
    {
      "cell_type": "markdown",
      "source": [
        "#9. Resultado (2.0 pontos)\n",
        "Reúna os seus achados, os valores das métricas do seu melhor modelo obtido e o melhor conjunto de variáveis. Escreva abaixo um relatório que seria enviado para uma diretoria de uma empresa sobre seu trabalho."
      ],
      "metadata": {
        "id": "3eAY6W7pK-yd"
      }
    },
    {
      "cell_type": "code",
      "execution_count": null,
      "metadata": {
        "id": "DkO9l_CpE-Pc"
      },
      "outputs": [],
      "source": [
        ""
      ]
    }
  ]
}